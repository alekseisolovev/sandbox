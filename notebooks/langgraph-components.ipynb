{
 "cells": [
  {
   "cell_type": "code",
   "execution_count": 1,
   "id": "5eafda14-9055-428e-b2d9-1f871091fbfd",
   "metadata": {},
   "outputs": [],
   "source": [
    "import operator\n",
    "from typing import Annotated, TypedDict\n",
    "\n",
    "from IPython.display import Image\n",
    "from langchain_community.tools.tavily_search import TavilySearchResults\n",
    "from langchain_core.messages import AnyMessage, HumanMessage, SystemMessage, ToolMessage\n",
    "from langchain_google_genai import ChatGoogleGenerativeAI\n",
    "from langgraph.graph import END, StateGraph"
   ]
  },
  {
   "cell_type": "code",
   "execution_count": 2,
   "id": "efa6a338-c412-42d5-8cd4-19783e0342ad",
   "metadata": {},
   "outputs": [
    {
     "data": {
      "text/plain": [
       "(langchain_community.tools.tavily_search.tool.TavilySearchResults,\n",
       " 'tavily_search_results_json')"
      ]
     },
     "execution_count": 2,
     "metadata": {},
     "output_type": "execute_result"
    }
   ],
   "source": [
    "tool = TavilySearchResults(max_results=4)\n",
    "type(tool), tool.name"
   ]
  },
  {
   "cell_type": "code",
   "execution_count": 3,
   "id": "7f43775f-c4a7-4759-bfd3-fbd363880226",
   "metadata": {},
   "outputs": [],
   "source": [
    "class AgentState(TypedDict):\n",
    "    messages: Annotated[list[AnyMessage], operator.add]"
   ]
  },
  {
   "cell_type": "code",
   "execution_count": 4,
   "id": "4652b43b-446a-40b7-8f85-2a7b35e8d8ee",
   "metadata": {},
   "outputs": [],
   "source": [
    "class Agent:\n",
    "\n",
    "    def __init__(self, model, tools, system=\"\"):\n",
    "        self.system = system\n",
    "        graph = StateGraph(AgentState)\n",
    "        graph.add_node(\"llm\", self.call_llm)\n",
    "        graph.add_node(\"action\", self.take_action)\n",
    "        graph.add_conditional_edges(\n",
    "            \"llm\", self.exists_action, {True: \"action\", False: END}\n",
    "        )\n",
    "        graph.add_edge(\"action\", \"llm\")\n",
    "        graph.set_entry_point(\"llm\")\n",
    "        self.graph = graph.compile()\n",
    "        self.tools = {t.name: t for t in tools}\n",
    "        self.model = model.bind_tools(tools)\n",
    "\n",
    "    def exists_action(self, state: AgentState):\n",
    "        result = state[\"messages\"][-1]\n",
    "        return len(result.tool_calls) > 0\n",
    "\n",
    "    def call_llm(self, state: AgentState):\n",
    "        messages = state[\"messages\"]\n",
    "        if self.system:\n",
    "            messages = [SystemMessage(content=self.system)] + messages\n",
    "        message = self.model.invoke(messages)\n",
    "        return {\"messages\": [message]}\n",
    "\n",
    "    def take_action(self, state: AgentState):\n",
    "        tool_calls = state[\"messages\"][-1].tool_calls\n",
    "        results = []\n",
    "        for t in tool_calls:\n",
    "            print(f\"Calling: {t}\")\n",
    "            if not t[\"name\"] in self.tools:\n",
    "                print(\"\\n Unknown tool name...\")\n",
    "                result = \"Unknown tool name, please retry.\"\n",
    "            else:\n",
    "                result = self.tools[t[\"name\"]].invoke(t[\"args\"])\n",
    "            results.append(\n",
    "                ToolMessage(tool_call_id=t[\"id\"], name=t[\"name\"], content=str(result))\n",
    "            )\n",
    "        print(\"Back to the model.\")\n",
    "        return {\"messages\": results}"
   ]
  },
  {
   "cell_type": "code",
   "execution_count": 5,
   "id": "1b61a1c8-c9d5-4086-a6f9-6d7aaebea9e4",
   "metadata": {},
   "outputs": [],
   "source": [
    "prompt = \"\"\"\n",
    "    You are a smart research assistant. Use the search engine to look up information.\n",
    "    You are allowed to make multiple calls (either together or in sequence).\n",
    "    Only look up information when you are sure of what you want.\n",
    "    If you need to look up some information before asking a follow up question, you are allowed to do that!\n",
    "\"\"\"\n",
    "\n",
    "model = ChatGoogleGenerativeAI(model=\"gemini-1.5-pro\")\n",
    "agent = Agent(model, [tool], system=prompt)"
   ]
  },
  {
   "cell_type": "code",
   "execution_count": 6,
   "id": "0983fdb7-2a31-4134-b8a7-740206929272",
   "metadata": {},
   "outputs": [
    {
     "data": {
      "image/png": "[encoded data removed]",
      "text/plain": [
       "<IPython.core.display.Image object>"
      ]
     },
     "execution_count": 6,
     "metadata": {},
     "output_type": "execute_result"
    }
   ],
   "source": [
    "Image(agent.graph.get_graph().draw_png())"
   ]
  },
  {
   "cell_type": "code",
   "execution_count": 7,
   "id": "974e156c-583d-4c3a-b3c3-41ce8fbacf82",
   "metadata": {},
   "outputs": [
    {
     "name": "stdout",
     "output_type": "stream",
     "text": [
      "Calling: {'name': 'tavily_search_results_json', 'args': {'query': 'weather in Berlin'}, 'id': 'b3c46043-4288-4f0c-ba99-8e2d4b65dc66', 'type': 'tool_call'}\n",
      "Back to the model.\n"
     ]
    }
   ],
   "source": [
    "messages = [HumanMessage(content=\"What is the weather in Berlin?\")]\n",
    "result = agent.graph.invoke({\"messages\": messages})"
   ]
  },
  {
   "cell_type": "code",
   "execution_count": 8,
   "id": "9deab071-c296-4c17-b2ca-86cba622e850",
   "metadata": {},
   "outputs": [
    {
     "data": {
      "text/plain": [
       "'The weather in Berlin is partly cloudy with a temperature of 16.3°C. The wind is blowing from the northwest at 9.7 km/h.  The humidity is 77%.'"
      ]
     },
     "execution_count": 8,
     "metadata": {},
     "output_type": "execute_result"
    }
   ],
   "source": [
    "result[\"messages\"][-1].content"
   ]
  },
  {
   "cell_type": "code",
   "execution_count": 9,
   "id": "62cb696b-2841-4d7a-be0c-4d55f7f2bca3",
   "metadata": {},
   "outputs": [],
   "source": [
    "query = \"\"\"\n",
    "    What is the name of the latest Gemini model?\n",
    "    When it was released?\n",
    "    Answer each question.\n",
    "\"\"\"\n",
    "messages = [HumanMessage(content=query)]"
   ]
  },
  {
   "cell_type": "code",
   "execution_count": 10,
   "id": "7a62e659-751c-463e-beff-8f0f7ee83573",
   "metadata": {
    "scrolled": true
   },
   "outputs": [
    {
     "name": "stdout",
     "output_type": "stream",
     "text": [
      "Calling: {'name': 'tavily_search_results_json', 'args': {'query': 'What is the name of the latest Gemini model?'}, 'id': '1fc93f35-532d-41bd-b1e0-e3ae22f2a0a9', 'type': 'tool_call'}\n",
      "Back to the model.\n",
      "Calling: {'name': 'tavily_search_results_json', 'args': {'query': 'When was Gemini 2.0 Flash released?'}, 'id': '9dba228c-155a-43c0-a57d-777488c30c8e', 'type': 'tool_call'}\n",
      "Back to the model.\n"
     ]
    }
   ],
   "source": [
    "model = ChatGoogleGenerativeAI(model=\"gemini-1.5-pro\")\n",
    "agent = Agent(model, [tool], system=prompt)\n",
    "result = agent.graph.invoke({\"messages\": messages})"
   ]
  },
  {
   "cell_type": "code",
   "execution_count": 11,
   "id": "a181b02c-c76e-42ff-afd0-8e2c8560d1dd",
   "metadata": {},
   "outputs": [
    {
     "data": {
      "text/plain": [
       "'The latest Gemini model is Gemini 2.0 Flash. It was released on January 30, 2025.'"
      ]
     },
     "execution_count": 11,
     "metadata": {},
     "output_type": "execute_result"
    }
   ],
   "source": [
    "result[\"messages\"][-1].content"
   ]
  },
  {
   "cell_type": "code",
   "execution_count": null,
   "id": "dbddfd7f-d5de-4eeb-939a-23866993ea51",
   "metadata": {},
   "outputs": [],
   "source": []
  }
 ],
 "metadata": {
  "kernelspec": {
   "display_name": "Python 3 (ipykernel)",
   "language": "python",
   "name": "python3"
  },
  "language_info": {
   "codemirror_mode": {
    "name": "ipython",
    "version": 3
   },
   "file_extension": ".py",
   "mimetype": "text/x-python",
   "name": "python",
   "nbconvert_exporter": "python",
   "pygments_lexer": "ipython3",
   "version": "3.11.12"
  }
 },
 "nbformat": 4,
 "nbformat_minor": 5
}
