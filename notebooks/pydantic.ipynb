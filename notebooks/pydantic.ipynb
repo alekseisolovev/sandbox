{
 "cells": [
  {
   "cell_type": "code",
   "execution_count": 1,
   "id": "fc5488c7-23f4-4fe5-9d26-22c6d2dcf17e",
   "metadata": {},
   "outputs": [],
   "source": [
    "from typing import Any, List, Type\n",
    "\n",
    "from langchain_core.messages import HumanMessage\n",
    "from langchain_google_genai import ChatGoogleGenerativeAI\n",
    "from pydantic import BaseModel, Field\n",
    "\n",
    "\n",
    "class GenerativeModel:\n",
    "    @staticmethod\n",
    "    async def call(output_model: Type[BaseModel], prompt: str) -> Any:\n",
    "\n",
    "        llm = ChatGoogleGenerativeAI(model=\"gemini-2.0-flash\")\n",
    "        llm = llm.with_structured_output(output_model)\n",
    "\n",
    "        return await llm.ainvoke([HumanMessage(content=prompt)])\n",
    "\n",
    "\n",
    "class LeetCodeProblem(BaseModel):\n",
    "    problem_name: str = Field(description=\"The official name of the LeetCode problem.\")\n",
    "    topic: str = Field(\n",
    "        description=\"The primary computer science topic or data structure for this problem, e.g., 'Array', 'Hash Table', 'Dynamic Programming'.\"\n",
    "    )\n",
    "    similar_problems: List[str] = Field(\n",
    "        description=\"A list of names of other LeetCode problems that use a similar technique or concept.\"\n",
    "    )"
   ]
  },
  {
   "cell_type": "code",
   "execution_count": 2,
   "id": "0a3ac804-fdb3-4d2b-a607-369d67febdf1",
   "metadata": {},
   "outputs": [],
   "source": [
    "prompt = \"Analyze the LeetCode problem 'Number of Islands'. What is its main topic and what are some similar problems?\"\n",
    "result = await GenerativeModel.call(output_model=LeetCodeProblem, prompt=prompt)"
   ]
  },
  {
   "cell_type": "code",
   "execution_count": 3,
   "id": "d2ffbd2d-3d29-4501-87f2-49f9c72cf200",
   "metadata": {},
   "outputs": [
    {
     "data": {
      "text/plain": [
       "(LeetCodeProblem(problem_name='Number of Islands', topic='Depth-First Search', similar_problems=['Island Perimeter', 'Max Area of Island', 'Pacific Atlantic Water Flow']),\n",
       " {'problem_name': 'Number of Islands',\n",
       "  'topic': 'Depth-First Search',\n",
       "  'similar_problems': ['Island Perimeter',\n",
       "   'Max Area of Island',\n",
       "   'Pacific Atlantic Water Flow']})"
      ]
     },
     "execution_count": 3,
     "metadata": {},
     "output_type": "execute_result"
    }
   ],
   "source": [
    "result, result.model_dump()"
   ]
  },
  {
   "cell_type": "code",
   "execution_count": null,
   "id": "573e4996-3a8a-4de6-bd73-12a25b7c22e7",
   "metadata": {},
   "outputs": [],
   "source": []
  }
 ],
 "metadata": {
  "kernelspec": {
   "display_name": "Python 3 (ipykernel)",
   "language": "python",
   "name": "python3"
  },
  "language_info": {
   "codemirror_mode": {
    "name": "ipython",
    "version": 3
   },
   "file_extension": ".py",
   "mimetype": "text/x-python",
   "name": "python",
   "nbconvert_exporter": "python",
   "pygments_lexer": "ipython3",
   "version": "3.11.13"
  }
 },
 "nbformat": 4,
 "nbformat_minor": 5
}
