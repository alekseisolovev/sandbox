{
 "cells": [
  {
   "cell_type": "code",
   "execution_count": 1,
   "id": "a3803ba9-bda3-4be7-8045-4b46bda5d8ec",
   "metadata": {},
   "outputs": [],
   "source": [
    "import operator\n",
    "from typing import Annotated, TypedDict\n",
    "\n",
    "from IPython.display import Image\n",
    "from langchain_community.tools.tavily_search import TavilySearchResults\n",
    "from langchain_core.messages import AnyMessage, HumanMessage, SystemMessage, ToolMessage\n",
    "from langchain_google_genai import ChatGoogleGenerativeAI\n",
    "from langgraph.checkpoint.sqlite import SqliteSaver\n",
    "from langgraph.graph import END, StateGraph"
   ]
  },
  {
   "cell_type": "code",
   "execution_count": 2,
   "id": "7f7cdb77-3f92-4b3a-92d1-0b0854a91f2b",
   "metadata": {},
   "outputs": [],
   "source": [
    "tool = TavilySearchResults(max_results=2)"
   ]
  },
  {
   "cell_type": "code",
   "execution_count": 3,
   "id": "acf14694-18cd-4704-94bc-24e19f0991da",
   "metadata": {},
   "outputs": [],
   "source": [
    "class AgentState(TypedDict):\n",
    "    messages: Annotated[list[AnyMessage], operator.add]"
   ]
  },
  {
   "cell_type": "code",
   "execution_count": 4,
   "id": "ec9866e8-fa85-4133-8ee3-762912deb470",
   "metadata": {},
   "outputs": [],
   "source": [
    "class Agent:\n",
    "\n",
    "    def __init__(self, model, tools, checkpointer, system=\"\"):\n",
    "        self.system = system\n",
    "        graph = StateGraph(AgentState)\n",
    "        graph.add_node(\"llm\", self.call_llm)\n",
    "        graph.add_node(\"action\", self.take_action)\n",
    "        graph.add_conditional_edges(\n",
    "            \"llm\", self.exists_action, {True: \"action\", False: END}\n",
    "        )\n",
    "        graph.add_edge(\"action\", \"llm\")\n",
    "        graph.set_entry_point(\"llm\")\n",
    "        self.graph = graph.compile(checkpointer=checkpointer)\n",
    "        self.tools = {t.name: t for t in tools}\n",
    "        self.model = model.bind_tools(tools)\n",
    "\n",
    "    def exists_action(self, state: AgentState):\n",
    "        result = state[\"messages\"][-1]\n",
    "        return len(result.tool_calls) > 0\n",
    "\n",
    "    def call_llm(self, state: AgentState):\n",
    "        messages = state[\"messages\"]\n",
    "        if self.system:\n",
    "            messages = [SystemMessage(content=self.system)] + messages\n",
    "        message = self.model.invoke(messages)\n",
    "        return {\"messages\": [message]}\n",
    "\n",
    "    def take_action(self, state: AgentState):\n",
    "        tool_calls = state[\"messages\"][-1].tool_calls\n",
    "        results = []\n",
    "        for t in tool_calls:\n",
    "            print(f\"Calling: {t}\")\n",
    "            if not t[\"name\"] in self.tools:\n",
    "                print(\"\\n Unknown tool name...\")\n",
    "                result = \"Unknown tool name, please retry.\"\n",
    "            else:\n",
    "                result = self.tools[t[\"name\"]].invoke(t[\"args\"])\n",
    "            results.append(\n",
    "                ToolMessage(tool_call_id=t[\"id\"], name=t[\"name\"], content=str(result))\n",
    "            )\n",
    "        print(\"Back to the model.\")\n",
    "        return {\"messages\": results}"
   ]
  },
  {
   "cell_type": "code",
   "execution_count": 5,
   "id": "6f1cef0e-1914-48f2-a363-e797c7a4287a",
   "metadata": {},
   "outputs": [],
   "source": [
    "prompt = \"\"\"\n",
    "    You are a smart research assistant. Use the search engine to look up information.\n",
    "    You are allowed to make multiple calls (either together or in sequence).\n",
    "    Only look up information when you are sure of what you want.\n",
    "    If you need to look up some information before asking a follow up question, you are allowed to do that!\n",
    "\"\"\""
   ]
  },
  {
   "cell_type": "code",
   "execution_count": 6,
   "id": "234937fe-1094-48ab-9325-b07b177b70b1",
   "metadata": {
    "scrolled": true
   },
   "outputs": [
    {
     "name": "stdout",
     "output_type": "stream",
     "text": [
      "[AIMessage(content='', additional_kwargs={'function_call': {'name': 'tavily_search_results_json', 'arguments': '{\"query\": \"weather in Berlin\"}'}}, response_metadata={'prompt_feedback': {'block_reason': 0, 'safety_ratings': []}, 'finish_reason': 'STOP', 'model_name': 'gemini-1.5-pro-002', 'safety_ratings': []}, id='run-0ab4676d-94d6-4145-9562-b89136702b03-0', tool_calls=[{'name': 'tavily_search_results_json', 'args': {'query': 'weather in Berlin'}, 'id': '95260141-4d30-43bd-83b2-b210fb386104', 'type': 'tool_call'}], usage_metadata={'input_tokens': 128, 'output_tokens': 12, 'total_tokens': 140, 'input_token_details': {'cache_read': 0}})]\n",
      "Calling: {'name': 'tavily_search_results_json', 'args': {'query': 'weather in Berlin'}, 'id': '95260141-4d30-43bd-83b2-b210fb386104', 'type': 'tool_call'}\n",
      "Back to the model.\n",
      "[ToolMessage(content='[{\\'title\\': \\'Weather for Berlin, Germany - Time and Date\\', \\'url\\': \\'https://www.timeanddate.com/weather/germany/berlin\\', \\'content\\': \\'Forecast: 65 / 50 °F Wind: 6 mph ↑ from West. Location: Berlin-Schoenefeld. Current Time: Apr 21, 2025 at 4:34:55 am. Latest Report: Apr 23, 2025 at 2:50 am.\\', \\'score\\': 0.8936907}, {\\'title\\': \\'Weather in Berlin, Germany\\', \\'url\\': \\'https://www.weatherapi.com/\\', \\'content\\': \"{\\'location\\': {\\'name\\': \\'Berlin\\', \\'region\\': \\'Berlin\\', \\'country\\': \\'Germany\\', \\'lat\\': 52.5167, \\'lon\\': 13.4, \\'tz_id\\': \\'Europe/Berlin\\', \\'localtime_epoch\\': 1745393355, \\'localtime\\': \\'2025-04-23 09:29\\'}, \\'current\\': {\\'last_updated_epoch\\': 1745392500, \\'last_updated\\': \\'2025-04-23 09:15\\', \\'temp_c\\': 15.1, \\'temp_f\\': 59.2, \\'is_day\\': 1, \\'condition\\': {\\'text\\': \\'Patchy light drizzle\\', \\'icon\\': \\'//cdn.weatherapi.com/weather/64x64/day/263.png\\', \\'code\\': 1150}, \\'wind_mph\\': 2.2, \\'wind_kph\\': 3.6, \\'wind_degree\\': 49, \\'wind_dir\\': \\'NE\\', \\'pressure_mb\\': 1018.0, \\'pressure_in\\': 30.06, \\'precip_mm\\': 0.43, \\'precip_in\\': 0.02, \\'humidity\\': 72, \\'cloud\\': 0, \\'feelslike_c\\': 15.1, \\'feelslike_f\\': 59.2, \\'windchill_c\\': 15.4, \\'windchill_f\\': 59.8, \\'heatindex_c\\': 15.4, \\'heatindex_f\\': 59.8, \\'dewpoint_c\\': 9.4, \\'dewpoint_f\\': 49.0, \\'vis_km\\': 10.0, \\'vis_miles\\': 6.0, \\'uv\\': 1.4, \\'gust_mph\\': 6.7, \\'gust_kph\\': 10.8}}\", \\'score\\': 0.8898221}]', name='tavily_search_results_json', tool_call_id='95260141-4d30-43bd-83b2-b210fb386104')]\n",
      "[AIMessage(content='The weather in Berlin is patchy light drizzle with a temperature of 15.1°C or 59.2°F. The wind is blowing from the northeast at 2.2 mph.  The humidity is 72%.', additional_kwargs={}, response_metadata={'prompt_feedback': {'block_reason': 0, 'safety_ratings': []}, 'finish_reason': 'STOP', 'model_name': 'gemini-1.5-pro-002', 'safety_ratings': []}, id='run-05d7b1d7-51e0-4412-a899-d6fd89c30e63-0', usage_metadata={'input_tokens': 776, 'output_tokens': 51, 'total_tokens': 827, 'input_token_details': {'cache_read': 0}})]\n"
     ]
    }
   ],
   "source": [
    "with SqliteSaver.from_conn_string(\":memory:\") as checkpointer:\n",
    "\n",
    "    model = ChatGoogleGenerativeAI(model=\"gemini-1.5-pro\")\n",
    "    agent = Agent(model, [tool], checkpointer=checkpointer, system=prompt)\n",
    "\n",
    "    messages = [HumanMessage(content=\"What is the weather in Berlin?\")]\n",
    "    thread = {\"configurable\": {\"thread_id\": \"1\"}}\n",
    "    for event in agent.graph.stream({\"messages\": messages}, thread):\n",
    "        for v in event.values():\n",
    "            print(v[\"messages\"])"
   ]
  },
  {
   "cell_type": "code",
   "execution_count": 7,
   "id": "dcf78c40-10cb-48aa-9bbd-10093d215fcb",
   "metadata": {},
   "outputs": [
    {
     "data": {
      "image/png": "[encoded data removed]",
      "text/plain": [
       "<IPython.core.display.Image object>"
      ]
     },
     "execution_count": 7,
     "metadata": {},
     "output_type": "execute_result"
    }
   ],
   "source": [
    "class Agent:\n",
    "\n",
    "    def __init__(self, model, checkpointer, system=\"\"):\n",
    "        self.system = system\n",
    "        graph = StateGraph(AgentState)\n",
    "        graph.add_node(\"llm\", self.call_llm)\n",
    "        graph.set_entry_point(\"llm\")\n",
    "        self.graph = graph.compile(checkpointer=checkpointer)\n",
    "        self.model = model\n",
    "\n",
    "    def call_llm(self, state: AgentState):\n",
    "        messages = state[\"messages\"]\n",
    "        if self.system:\n",
    "            messages = [SystemMessage(content=self.system)] + messages\n",
    "        message = self.model.invoke(messages)\n",
    "        return {\"messages\": [message]}\n",
    "\n",
    "\n",
    "model = ChatGoogleGenerativeAI(model=\"gemini-1.5-flash\")\n",
    "agent = Agent(model, checkpointer=checkpointer, system=\"You are a helpful assistant.\")\n",
    "\n",
    "Image(agent.graph.get_graph().draw_png())"
   ]
  },
  {
   "cell_type": "code",
   "execution_count": 8,
   "id": "4e985058-0d1e-4821-af95-4b8649781270",
   "metadata": {},
   "outputs": [
    {
     "name": "stdout",
     "output_type": "stream",
     "text": [
      "The capital of Germany is Berlin.\n",
      "Your previous question was: \"What is the capital of Germany?\"\n",
      "As an AI, I have no memory of past conversations.  Each interaction with me starts fresh.  To know your previous question, you'll need to refer to your own chat history or records.\n"
     ]
    }
   ],
   "source": [
    "with SqliteSaver.from_conn_string(\":memory:\") as checkpointer:\n",
    "\n",
    "    model = ChatGoogleGenerativeAI(model=\"gemini-1.5-flash\")\n",
    "    agent = Agent(\n",
    "        model, checkpointer=checkpointer, system=\"You are a helpful assistant.\"\n",
    "    )\n",
    "\n",
    "    messages = [HumanMessage(content=\"What is the capital of Germany?\")]\n",
    "    thread = {\"configurable\": {\"thread_id\": \"0\"}}\n",
    "    result = agent.graph.invoke({\"messages\": messages}, thread)\n",
    "    print(result[\"messages\"][-1].content)\n",
    "\n",
    "    messages = [HumanMessage(content=\"What was my previous question?\")]\n",
    "    thread = {\"configurable\": {\"thread_id\": \"0\"}}\n",
    "    result = agent.graph.invoke({\"messages\": messages}, thread)\n",
    "    print(result[\"messages\"][-1].content)\n",
    "\n",
    "    messages = [HumanMessage(content=\"What was my previous question?\")]\n",
    "    thread = {\"configurable\": {\"thread_id\": \"1\"}}\n",
    "    result = agent.graph.invoke({\"messages\": messages}, thread)\n",
    "    print(result[\"messages\"][-1].content)"
   ]
  },
  {
   "cell_type": "code",
   "execution_count": null,
   "id": "a7145d7c-1b47-4cc9-90a1-b3d05997c675",
   "metadata": {},
   "outputs": [],
   "source": []
  }
 ],
 "metadata": {
  "kernelspec": {
   "display_name": "Python 3 (ipykernel)",
   "language": "python",
   "name": "python3"
  },
  "language_info": {
   "codemirror_mode": {
    "name": "ipython",
    "version": 3
   },
   "file_extension": ".py",
   "mimetype": "text/x-python",
   "name": "python",
   "nbconvert_exporter": "python",
   "pygments_lexer": "ipython3",
   "version": "3.11.12"
  }
 },
 "nbformat": 4,
 "nbformat_minor": 5
}
