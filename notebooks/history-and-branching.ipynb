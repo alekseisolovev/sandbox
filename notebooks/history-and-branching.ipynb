{
 "cells": [
  {
   "cell_type": "code",
   "execution_count": 1,
   "id": "6e9b5e52-3f26-4c02-950d-cef57e7a3ada",
   "metadata": {},
   "outputs": [],
   "source": [
    "import datetime\n",
    "import operator\n",
    "import os\n",
    "import sqlite3\n",
    "from typing import Annotated, Sequence, TypedDict\n",
    "\n",
    "from IPython.display import Image\n",
    "from langgraph.checkpoint.sqlite import SqliteSaver\n",
    "from langgraph.graph import END, StateGraph\n",
    "from langgraph.graph.message import add_messages"
   ]
  },
  {
   "cell_type": "code",
   "execution_count": 2,
   "id": "2d222f7b-4fee-49ca-b7f1-5a9155030c90",
   "metadata": {},
   "outputs": [],
   "source": [
    "class GraphState(TypedDict):\n",
    "    last_executed_node: str\n",
    "    # Use Annotated[int, operator.add] to specify that 'step_counter'\n",
    "    # should be accumulated (added to) rather than overwritten.\n",
    "    step_counter: Annotated[int, operator.add]\n",
    "    # Use Annotated[Sequence[str], add_messages] to append messages\n",
    "    history: Annotated[Sequence[str], add_messages]\n",
    "    last_update_time: str"
   ]
  },
  {
   "cell_type": "code",
   "execution_count": 3,
   "id": "f27af743-dd0c-47ea-8572-8e856a2493a0",
   "metadata": {},
   "outputs": [],
   "source": [
    "def start_node(state: GraphState) -> dict:\n",
    "    \"\"\"Executes Start Node logic.\"\"\"\n",
    "    timestamp = datetime.datetime.now().isoformat()\n",
    "    print(f\"Executing Start Node\")\n",
    "    print(\n",
    "        f\"  Incoming state: step_counter={state['step_counter']}, last_node={state.get('last_executed_node', 'None')}\"\n",
    "    )\n",
    "    message = f\"  Visited Start at {timestamp}\"\n",
    "    # Return the updates to the state\n",
    "    return {\n",
    "        \"last_executed_node\": \"StartNode\",\n",
    "        \"step_counter\": 1,  # Add 1 to the counter\n",
    "        \"history\": [message],  # Append this message to history\n",
    "        \"last_update_time\": timestamp,\n",
    "    }\n",
    "\n",
    "\n",
    "def cycle_node(state: GraphState) -> dict:\n",
    "    \"\"\"Executes Cycle Node logic.\"\"\"\n",
    "    timestamp = datetime.datetime.now().isoformat()\n",
    "    print(f\"Executing Cycle Node\")\n",
    "    print(\n",
    "        f\"  Incoming state: step_counter={state['step_counter']}, last_node={state.get('last_executed_node', 'None')}\"\n",
    "    )\n",
    "    message = f\"  Visited Cycle at {timestamp}\"\n",
    "    # Return the updates to the state\n",
    "    return {\n",
    "        \"last_executed_node\": \"CycleNode\",\n",
    "        \"step_counter\": 1,  # Add 1 to the counter\n",
    "        \"history\": [message],  # Append this message to history\n",
    "        \"last_update_time\": timestamp,\n",
    "    }"
   ]
  },
  {
   "cell_type": "code",
   "execution_count": 4,
   "id": "a643fe7a-5528-4bb1-823d-a574503b3e61",
   "metadata": {},
   "outputs": [],
   "source": [
    "MAX_STEPS = 3\n",
    "\n",
    "\n",
    "def should_loop(state: GraphState) -> str:\n",
    "    \"\"\"Determines if the loop should continue based on the step counter.\"\"\"\n",
    "    print(f\"Checking Condition: step_counter = {state['step_counter']}\")\n",
    "    if state[\"step_counter\"] < MAX_STEPS:\n",
    "        print(f\"  Condition TRUE (steps < {MAX_STEPS}), looping back to StartNode.\")\n",
    "        return \"continue_loop\"\n",
    "    else:\n",
    "        print(f\"  Condition FALSE (steps >= {MAX_STEPS}), ending graph execution.\")\n",
    "        return \"end_loop\""
   ]
  },
  {
   "cell_type": "code",
   "execution_count": 5,
   "id": "d8e35981-7bed-4fd0-acf1-f2b302af3573",
   "metadata": {},
   "outputs": [],
   "source": [
    "# Use the GraphState as the state schema\n",
    "builder = StateGraph(GraphState)\n",
    "\n",
    "# Add the nodes to the graph\n",
    "builder.add_node(\"StartNode\", start_node)\n",
    "builder.add_node(\"CycleNode\", cycle_node)\n",
    "\n",
    "# Set the entry point for the graph\n",
    "builder.set_entry_point(\"StartNode\")\n",
    "\n",
    "# Define the edges connecting the nodes\n",
    "builder.add_edge(\"StartNode\", \"CycleNode\")\n",
    "\n",
    "# Add a conditional edge from CycleNode:\n",
    "# Based on the output of 'should_loop', go to 'StartNode' or END.\n",
    "builder.add_conditional_edges(\n",
    "    \"CycleNode\",\n",
    "    should_loop,\n",
    "    {\n",
    "        \"continue_loop\": \"StartNode\",  # If should_loop returns \"continue_loop\"\n",
    "        \"end_loop\": END,  # If should_loop returns \"end_loop\"\n",
    "    },\n",
    ");"
   ]
  },
  {
   "cell_type": "code",
   "execution_count": 6,
   "id": "cc9f9870-2376-4960-8d99-091634badaa5",
   "metadata": {},
   "outputs": [],
   "source": [
    "DB_NAME = \"memory.db\"\n",
    "\n",
    "if os.path.exists(DB_NAME):\n",
    "    os.remove(DB_NAME)\n",
    "\n",
    "conn = sqlite3.connect(DB_NAME, check_same_thread=False)\n",
    "checkpointer = SqliteSaver(conn=conn)"
   ]
  },
  {
   "cell_type": "code",
   "execution_count": 7,
   "id": "9de1874a-4710-49fe-861d-ca9a52bd9ffd",
   "metadata": {
    "scrolled": true
   },
   "outputs": [
    {
     "data": {
      "image/png": "[encoded data removed]",
      "text/plain": [
       "<IPython.core.display.Image object>"
      ]
     },
     "metadata": {},
     "output_type": "display_data"
    }
   ],
   "source": [
    "graph = builder.compile(checkpointer=checkpointer)\n",
    "\n",
    "display(Image(graph.get_graph().draw_png()))"
   ]
  },
  {
   "cell_type": "code",
   "execution_count": 8,
   "id": "2f68aefe-e7ef-45ba-8728-aaeecbda5404",
   "metadata": {},
   "outputs": [
    {
     "name": "stdout",
     "output_type": "stream",
     "text": [
      "Executing Start Node\n",
      "  Incoming state: step_counter=0, last_node=None\n",
      "Executing Cycle Node\n",
      "  Incoming state: step_counter=1, last_node=StartNode\n",
      "Checking Condition: step_counter = 2\n",
      "  Condition TRUE (steps < 3), looping back to StartNode.\n",
      "Executing Start Node\n",
      "  Incoming state: step_counter=2, last_node=CycleNode\n",
      "Executing Cycle Node\n",
      "  Incoming state: step_counter=3, last_node=StartNode\n",
      "Checking Condition: step_counter = 4\n",
      "  Condition FALSE (steps >= 3), ending graph execution.\n"
     ]
    },
    {
     "data": {
      "text/plain": [
       "{'last_executed_node': 'CycleNode',\n",
       " 'step_counter': 4,\n",
       " 'history': [HumanMessage(content='Initial State', additional_kwargs={}, response_metadata={}, id='b037073a-16e9-40d6-9eae-62241182bd91'),\n",
       "  HumanMessage(content='  Visited Start at 2025-04-25T08:47:59.762387', additional_kwargs={}, response_metadata={}, id='1df8596d-744d-40ab-ad1f-6e71806fb11a'),\n",
       "  HumanMessage(content='  Visited Cycle at 2025-04-25T08:47:59.764044', additional_kwargs={}, response_metadata={}, id='6595097d-b222-4164-8625-2b2f3a8bac1c'),\n",
       "  HumanMessage(content='  Visited Start at 2025-04-25T08:47:59.765354', additional_kwargs={}, response_metadata={}, id='5155f16b-ad90-41ba-bc67-f2ec6bdd76e5'),\n",
       "  HumanMessage(content='  Visited Cycle at 2025-04-25T08:47:59.766432', additional_kwargs={}, response_metadata={}, id='d9ef5694-b838-4b8d-8049-679854870304')],\n",
       " 'last_update_time': '2025-04-25T08:47:59.766432'}"
      ]
     },
     "execution_count": 8,
     "metadata": {},
     "output_type": "execute_result"
    }
   ],
   "source": [
    "INITIAL_THREAD_ID = \"initial-thread\"\n",
    "BRANCHING_THREAD_ID = \"branching-thread\"\n",
    "\n",
    "# Define the configuration for the specific execution thread\n",
    "thread_config = {\"configurable\": {\"thread_id\": INITIAL_THREAD_ID}}\n",
    "# Initial state to start the graph\n",
    "initial_state = {\"step_counter\": 0, \"history\": [\"Initial State\"]}\n",
    "\n",
    "# Invoke the graph. It will run until it hits the END state.\n",
    "# The checkpointer automatically saves state at each step.\n",
    "final_state = graph.invoke(initial_state, config=thread_config)\n",
    "final_state"
   ]
  },
  {
   "cell_type": "code",
   "execution_count": 9,
   "id": "b0427d50-5978-457e-a37f-9b88e99bddd3",
   "metadata": {},
   "outputs": [
    {
     "data": {
      "text/plain": [
       "6"
      ]
     },
     "execution_count": 9,
     "metadata": {},
     "output_type": "execute_result"
    }
   ],
   "source": [
    "# Retrieve the history of states for the thread\n",
    "# History is returned most recent first.\n",
    "state_history = list(graph.get_state_history(thread_config))  # Convert iterator to list\n",
    "len(state_history)"
   ]
  },
  {
   "cell_type": "code",
   "execution_count": 10,
   "id": "b4f6c395-711e-4d64-91b5-f4acda1153ac",
   "metadata": {},
   "outputs": [
    {
     "name": "stdout",
     "output_type": "stream",
     "text": [
      "\n",
      "Snapshot 0:\n",
      "  Config: {'configurable': {'thread_id': 'initial-thread', 'checkpoint_ns': '', 'checkpoint_id': '1f021b1f-daeb-63bf-bfff-752bb0118288'}}\n",
      "  Values: step_counter=0, last_node=None, time=None\n",
      "\n",
      "Snapshot 1:\n",
      "  Config: {'configurable': {'thread_id': 'initial-thread', 'checkpoint_ns': '', 'checkpoint_id': '1f021b1f-db09-6148-8000-cc3f4d15c419'}}\n",
      "  Values: step_counter=0, last_node=None, time=None\n",
      "\n",
      "Snapshot 2:\n",
      "  Config: {'configurable': {'thread_id': 'initial-thread', 'checkpoint_ns': '', 'checkpoint_id': '1f021b1f-db0c-6c6e-8001-2b6899ecd811'}}\n",
      "  Values: step_counter=1, last_node=StartNode, time=2025-04-25T08:47:59.762387\n",
      "\n",
      "Snapshot 3:\n",
      "  Config: {'configurable': {'thread_id': 'initial-thread', 'checkpoint_ns': '', 'checkpoint_id': '1f021b1f-db10-6065-8002-310c33480833'}}\n",
      "  Values: step_counter=2, last_node=CycleNode, time=2025-04-25T08:47:59.764044\n",
      "\n",
      "Snapshot 4:\n",
      "  Config: {'configurable': {'thread_id': 'initial-thread', 'checkpoint_ns': '', 'checkpoint_id': '1f021b1f-db12-6761-8003-0005f1839fcc'}}\n",
      "  Values: step_counter=3, last_node=StartNode, time=2025-04-25T08:47:59.765354\n",
      "\n",
      "Snapshot 5:\n",
      "  Config: {'configurable': {'thread_id': 'initial-thread', 'checkpoint_ns': '', 'checkpoint_id': '1f021b1f-db14-6f2e-8004-029b56e0429c'}}\n",
      "  Values: step_counter=4, last_node=CycleNode, time=2025-04-25T08:47:59.766432\n"
     ]
    }
   ],
   "source": [
    "# Store configs for later use (reversing to get chronological order for easier indexing)\n",
    "state_configs_chronological = [state.config for state in reversed(state_history)]\n",
    "\n",
    "# Print history in chronological order (oldest first)\n",
    "for i, state in enumerate(reversed(state_history)):\n",
    "    print(f\"\\nSnapshot {i}:\")\n",
    "    print(f\"  Config: {state.config}\")\n",
    "    print(\n",
    "        f\"  Values: step_counter={state.values['step_counter']}, last_node={state.values.get('last_executed_node')}, time={state.values.get('last_update_time')}\"\n",
    "    )"
   ]
  },
  {
   "cell_type": "code",
   "execution_count": 11,
   "id": "5c4fa94f-9015-4efe-84b3-df739015bd4f",
   "metadata": {},
   "outputs": [
    {
     "data": {
      "text/plain": [
       "{'last_executed_node': 'StartNode',\n",
       " 'step_counter': 1,\n",
       " 'history': [HumanMessage(content='Initial State', additional_kwargs={}, response_metadata={}, id='b037073a-16e9-40d6-9eae-62241182bd91'),\n",
       "  HumanMessage(content='  Visited Start at 2025-04-25T08:47:59.762387', additional_kwargs={}, response_metadata={}, id='1df8596d-744d-40ab-ad1f-6e71806fb11a')],\n",
       " 'last_update_time': '2025-04-25T08:47:59.762387'}"
      ]
     },
     "execution_count": 11,
     "metadata": {},
     "output_type": "execute_result"
    }
   ],
   "source": [
    "branch_point_config = state_configs_chronological[\n",
    "    2\n",
    "]  # Config after first CycleNode execution\n",
    "\n",
    "# Get the full state details at this branch point\n",
    "branch_state = graph.get_state(branch_point_config)\n",
    "branch_state.values"
   ]
  },
  {
   "cell_type": "code",
   "execution_count": 12,
   "id": "cff84bb6-eca1-407a-975c-547460f7a11f",
   "metadata": {},
   "outputs": [
    {
     "data": {
      "text/plain": [
       "('CycleNode',)"
      ]
     },
     "execution_count": 12,
     "metadata": {},
     "output_type": "execute_result"
    }
   ],
   "source": [
    "branch_state.next"
   ]
  },
  {
   "cell_type": "code",
   "execution_count": 13,
   "id": "96a12da3-dbae-42d2-ba2c-1e3c9784ce68",
   "metadata": {},
   "outputs": [
    {
     "name": "stdout",
     "output_type": "stream",
     "text": [
      "Executing Cycle Node\n",
      "  Incoming state: step_counter=1, last_node=StartNode\n",
      "Checking Condition: step_counter = 2\n",
      "  Condition TRUE (steps < 3), looping back to StartNode.\n",
      "Executing Start Node\n",
      "  Incoming state: step_counter=2, last_node=CycleNode\n",
      "Executing Cycle Node\n",
      "  Incoming state: step_counter=3, last_node=StartNode\n",
      "Checking Condition: step_counter = 4\n",
      "  Condition FALSE (steps >= 3), ending graph execution.\n"
     ]
    }
   ],
   "source": [
    "branched_final_state = graph.invoke(None, config=branch_point_config)"
   ]
  },
  {
   "cell_type": "code",
   "execution_count": 14,
   "id": "d7c114e2-7e5f-4182-89d0-1574e0ebe238",
   "metadata": {},
   "outputs": [
    {
     "data": {
      "text/plain": [
       "{'last_executed_node': 'CycleNode',\n",
       " 'step_counter': 4,\n",
       " 'history': [HumanMessage(content='Initial State', additional_kwargs={}, response_metadata={}, id='b037073a-16e9-40d6-9eae-62241182bd91'),\n",
       "  HumanMessage(content='  Visited Start at 2025-04-25T08:47:59.762387', additional_kwargs={}, response_metadata={}, id='1df8596d-744d-40ab-ad1f-6e71806fb11a'),\n",
       "  HumanMessage(content='  Visited Cycle at 2025-04-25T08:47:59.898098', additional_kwargs={}, response_metadata={}, id='fd1f149b-48dc-4f66-9c65-ed46817188bc'),\n",
       "  HumanMessage(content='  Visited Start at 2025-04-25T08:47:59.906790', additional_kwargs={}, response_metadata={}, id='42a60b57-4900-4f2f-bd08-7ed59fe25813'),\n",
       "  HumanMessage(content='  Visited Cycle at 2025-04-25T08:47:59.912126', additional_kwargs={}, response_metadata={}, id='0b0a8f18-d634-4f5f-a5e3-a72c55367d80')],\n",
       " 'last_update_time': '2025-04-25T08:47:59.912126'}"
      ]
     },
     "execution_count": 14,
     "metadata": {},
     "output_type": "execute_result"
    }
   ],
   "source": [
    "branched_final_state"
   ]
  },
  {
   "cell_type": "code",
   "execution_count": 15,
   "id": "3cbfba1d-1ab7-4b53-aff5-6fcb0f3768a6",
   "metadata": {},
   "outputs": [],
   "source": [
    "# Fetch history again - it will now include the original run and the branched run.\n",
    "updated_history = list(graph.get_state_history(thread_config))"
   ]
  },
  {
   "cell_type": "code",
   "execution_count": 16,
   "id": "e0b783dc-7b30-4f28-bc70-181cd97813e9",
   "metadata": {
    "scrolled": true
   },
   "outputs": [
    {
     "name": "stdout",
     "output_type": "stream",
     "text": [
      "\n",
      "Snapshot 0:\n",
      "  Config: {'configurable': {'thread_id': 'initial-thread', 'checkpoint_ns': '', 'checkpoint_id': '1f021b1f-daeb-63bf-bfff-752bb0118288'}}\n",
      "  Values: step_counter=0, last_node=None, time=None\n",
      "\n",
      "Snapshot 1:\n",
      "  Config: {'configurable': {'thread_id': 'initial-thread', 'checkpoint_ns': '', 'checkpoint_id': '1f021b1f-db09-6148-8000-cc3f4d15c419'}}\n",
      "  Values: step_counter=0, last_node=None, time=None\n",
      "\n",
      "Snapshot 2:\n",
      "  Config: {'configurable': {'thread_id': 'initial-thread', 'checkpoint_ns': '', 'checkpoint_id': '1f021b1f-db0c-6c6e-8001-2b6899ecd811'}}\n",
      "  Values: step_counter=1, last_node=StartNode, time=2025-04-25T08:47:59.762387\n",
      "\n",
      "Snapshot 3:\n",
      "  Config: {'configurable': {'thread_id': 'initial-thread', 'checkpoint_ns': '', 'checkpoint_id': '1f021b1f-db10-6065-8002-310c33480833'}}\n",
      "  Values: step_counter=2, last_node=CycleNode, time=2025-04-25T08:47:59.764044\n",
      "\n",
      "Snapshot 4:\n",
      "  Config: {'configurable': {'thread_id': 'initial-thread', 'checkpoint_ns': '', 'checkpoint_id': '1f021b1f-db12-6761-8003-0005f1839fcc'}}\n",
      "  Values: step_counter=3, last_node=StartNode, time=2025-04-25T08:47:59.765354\n",
      "\n",
      "Snapshot 5:\n",
      "  Config: {'configurable': {'thread_id': 'initial-thread', 'checkpoint_ns': '', 'checkpoint_id': '1f021b1f-db14-6f2e-8004-029b56e0429c'}}\n",
      "  Values: step_counter=4, last_node=CycleNode, time=2025-04-25T08:47:59.766432\n",
      "\n",
      "Snapshot 6:\n",
      "  Config: {'configurable': {'thread_id': 'initial-thread', 'checkpoint_ns': '', 'checkpoint_id': '1f021b1f-dc63-66c7-8002-837b7cf85e83'}}\n",
      "  Values: step_counter=2, last_node=CycleNode, time=2025-04-25T08:47:59.898098\n",
      "\n",
      "Snapshot 7:\n",
      "  Config: {'configurable': {'thread_id': 'initial-thread', 'checkpoint_ns': '', 'checkpoint_id': '1f021b1f-dc72-652b-8003-0c3a1c48755c'}}\n",
      "  Values: step_counter=3, last_node=StartNode, time=2025-04-25T08:47:59.906790\n",
      "\n",
      "Snapshot 8:\n",
      "  Config: {'configurable': {'thread_id': 'initial-thread', 'checkpoint_ns': '', 'checkpoint_id': '1f021b1f-dc7d-6b51-8004-3e6781226421'}}\n",
      "  Values: step_counter=4, last_node=CycleNode, time=2025-04-25T08:47:59.912126\n"
     ]
    }
   ],
   "source": [
    "# Print history in chronological order (oldest first)\n",
    "for i, state in enumerate(reversed(updated_history)):\n",
    "    print(f\"\\nSnapshot {i}:\")\n",
    "    print(f\"  Config: {state.config}\")\n",
    "    print(\n",
    "        f\"  Values: step_counter={state.values['step_counter']}, last_node={state.values.get('last_executed_node')}, time={state.values.get('last_update_time')}\"\n",
    "    )"
   ]
  },
  {
   "cell_type": "code",
   "execution_count": null,
   "id": "e3f9d201-269a-47f2-abf1-edaed36de804",
   "metadata": {},
   "outputs": [],
   "source": []
  }
 ],
 "metadata": {
  "kernelspec": {
   "display_name": "Python 3 (ipykernel)",
   "language": "python",
   "name": "python3"
  },
  "language_info": {
   "codemirror_mode": {
    "name": "ipython",
    "version": 3
   },
   "file_extension": ".py",
   "mimetype": "text/x-python",
   "name": "python",
   "nbconvert_exporter": "python",
   "pygments_lexer": "ipython3",
   "version": "3.11.12"
  }
 },
 "nbformat": 4,
 "nbformat_minor": 5
}
