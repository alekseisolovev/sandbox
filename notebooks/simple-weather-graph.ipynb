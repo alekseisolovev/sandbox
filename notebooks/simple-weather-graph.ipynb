{
 "cells": [
  {
   "cell_type": "code",
   "execution_count": 1,
   "id": "20154c3c-ec35-4f19-a3e3-ad28bacb2bcb",
   "metadata": {},
   "outputs": [],
   "source": [
    "import random\n",
    "import re\n",
    "from typing import Literal, Optional, TypedDict\n",
    "\n",
    "from IPython.display import Image\n",
    "from langgraph.graph import END, START, StateGraph"
   ]
  },
  {
   "cell_type": "code",
   "execution_count": 2,
   "id": "b3e248a3-db71-482f-abe0-26a251b1f35b",
   "metadata": {},
   "outputs": [],
   "source": [
    "class WorkflowState(TypedDict):\n",
    "    \"\"\"Represents the state of a workflow.\"\"\"\n",
    "\n",
    "    user_query: str\n",
    "    location: Optional[str]\n",
    "    weather_info: Optional[str]\n",
    "    final_response: str\n",
    "\n",
    "\n",
    "def simulate_weather_api(location: str) -> str:\n",
    "    \"\"\"\n",
    "    Simulates calling a weather API for a given location.\n",
    "    Returns a simple weather string.\n",
    "    \"\"\"\n",
    "    temperature = random.randint(15, 25)\n",
    "    condition = random.choice([\"sunny\", \"cloudy\", \"partly cloudy\"])\n",
    "    return f\"The weather in {location} is {condition} with a temperature of {temperature}°C.\"\n",
    "\n",
    "\n",
    "def extract_location_and_get_weather(state: WorkflowState) -> WorkflowState:\n",
    "    \"\"\"\n",
    "    Parses the user query to find a location, simulates fetching weather,\n",
    "    and updates the state.\n",
    "    \"\"\"\n",
    "    query = state[\"user_query\"]\n",
    "    location = None\n",
    "    weather_info = None\n",
    "\n",
    "    match = re.search(r\"weather in (\\w+)\", query, re.IGNORECASE)\n",
    "    if match:\n",
    "        location = match.group(1).strip()\n",
    "        weather_info = simulate_weather_api(location)\n",
    "    else:\n",
    "        weather_info = \"Sorry, I couldn't identify a location in your request.\"\n",
    "\n",
    "    # Only return fields that are updated by this node\n",
    "    return {\n",
    "        \"location\": location,\n",
    "        \"weather_info\": weather_info,\n",
    "    }\n",
    "\n",
    "\n",
    "def format_weather_response(state: WorkflowState) -> WorkflowState:\n",
    "    \"\"\"Formats a response including the fetched weather information.\"\"\"\n",
    "    weather_info = state[\"weather_info\"]\n",
    "    final_response = f\"Here’s the latest weather information. {weather_info}\"\n",
    "    return {\"final_response\": final_response}\n",
    "\n",
    "\n",
    "def format_failed_response(state: WorkflowState) -> WorkflowState:\n",
    "    \"\"\"Formats a response indicating the weather check could not be completed.\"\"\"\n",
    "    weather_info = state[\"weather_info\"]  # Contains the reason for failure\n",
    "    final_response = f\"I couldn't get the weather information. {weather_info}\"\n",
    "    return {\"final_response\": final_response}\n",
    "\n",
    "\n",
    "def route_after_weather_check(\n",
    "    state: WorkflowState,\n",
    ") -> Literal[\"format_weather_response\", \"format_failed_response\"]:\n",
    "    \"\"\"\n",
    "    Decides the next step based on whether weather information was successfully retrieved.\n",
    "    \"\"\"\n",
    "    if (\n",
    "        state[\"location\"] and \"Sorry\" not in state[\"weather_info\"]\n",
    "    ):  # Check if location was found and API didn't return an error message\n",
    "        return \"format_weather_response\"\n",
    "    else:\n",
    "        return \"format_failed_response\""
   ]
  },
  {
   "cell_type": "code",
   "execution_count": 3,
   "id": "e302ee27-b680-4046-81e7-fc4adb09a81e",
   "metadata": {},
   "outputs": [
    {
     "data": {
      "image/png": "[encoded data removed]",
      "text/plain": [
       "<IPython.core.display.Image object>"
      ]
     },
     "execution_count": 3,
     "metadata": {},
     "output_type": "execute_result"
    }
   ],
   "source": [
    "builder = StateGraph(WorkflowState)\n",
    "\n",
    "builder.add_node(\"get_weather\", extract_location_and_get_weather)\n",
    "builder.add_node(\"format_weather_response\", format_weather_response)\n",
    "builder.add_node(\"format_failed_response\", format_failed_response)\n",
    "\n",
    "builder.add_edge(START, \"get_weather\")\n",
    "builder.add_conditional_edges(\n",
    "    \"get_weather\",\n",
    "    route_after_weather_check,\n",
    "    {  # Map the return values of route_after_weather_check to node names\n",
    "        \"format_weather_response\": \"format_weather_response\",\n",
    "        \"format_failed_response\": \"format_failed_response\",\n",
    "    },\n",
    ")\n",
    "builder.add_edge(\"format_weather_response\", END)\n",
    "builder.add_edge(\"format_failed_response\", END)\n",
    "\n",
    "\n",
    "graph = builder.compile()\n",
    "\n",
    "Image(graph.get_graph().draw_mermaid_png())"
   ]
  },
  {
   "cell_type": "code",
   "execution_count": 4,
   "id": "99ad85d9-07c6-42ed-a14c-abd077794945",
   "metadata": {},
   "outputs": [
    {
     "data": {
      "text/plain": [
       "{'user_query': 'What is the weather in Berlin today?',\n",
       " 'location': 'Berlin',\n",
       " 'weather_info': 'The weather in Berlin is sunny with a temperature of 22°C.',\n",
       " 'final_response': 'Here’s the latest weather information. The weather in Berlin is sunny with a temperature of 22°C.'}"
      ]
     },
     "execution_count": 4,
     "metadata": {},
     "output_type": "execute_result"
    }
   ],
   "source": [
    "inputs = {\"user_query\": \"What is the weather in Berlin today?\"}\n",
    "final_state = graph.invoke(inputs)\n",
    "final_state"
   ]
  },
  {
   "cell_type": "code",
   "execution_count": 5,
   "id": "c8c86610-a1c7-4cbe-8a96-1546dbdcf557",
   "metadata": {},
   "outputs": [
    {
     "data": {
      "text/plain": [
       "{'user_query': 'Hello, how are you?',\n",
       " 'location': None,\n",
       " 'weather_info': \"Sorry, I couldn't identify a location in your request.\",\n",
       " 'final_response': \"I couldn't get the weather information. Sorry, I couldn't identify a location in your request.\"}"
      ]
     },
     "execution_count": 5,
     "metadata": {},
     "output_type": "execute_result"
    }
   ],
   "source": [
    "inputs = {\"user_query\": \"Hello, how are you?\"}\n",
    "final_state = graph.invoke(inputs)\n",
    "final_state"
   ]
  },
  {
   "cell_type": "code",
   "execution_count": null,
   "id": "3d85777d-4e5a-4779-811b-721f11526ca6",
   "metadata": {},
   "outputs": [],
   "source": []
  }
 ],
 "metadata": {
  "kernelspec": {
   "display_name": "Python 3 (ipykernel)",
   "language": "python",
   "name": "python3"
  },
  "language_info": {
   "codemirror_mode": {
    "name": "ipython",
    "version": 3
   },
   "file_extension": ".py",
   "mimetype": "text/x-python",
   "name": "python",
   "nbconvert_exporter": "python",
   "pygments_lexer": "ipython3",
   "version": "3.11.12"
  }
 },
 "nbformat": 4,
 "nbformat_minor": 5
}
