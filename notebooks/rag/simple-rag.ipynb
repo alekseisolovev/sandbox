{
 "cells": [
  {
   "cell_type": "code",
   "execution_count": 1,
   "id": "49c04743-8535-4e8f-8d4e-ee1008f8b62e",
   "metadata": {},
   "outputs": [],
   "source": [
    "from langchain.document_loaders import PyPDFLoader\n",
    "\n",
    "loader = PyPDFLoader(\"/sandbox/notebooks/data/1811.12808v3.pdf\")\n",
    "pages = loader.load()"
   ]
  },
  {
   "cell_type": "code",
   "execution_count": 2,
   "id": "da18b33b-d81a-475c-b532-4928d60e5880",
   "metadata": {},
   "outputs": [
    {
     "data": {
      "text/plain": [
       "47"
      ]
     },
     "execution_count": 2,
     "metadata": {},
     "output_type": "execute_result"
    }
   ],
   "source": [
    "pages = pages[:-2]\n",
    "len(pages)"
   ]
  },
  {
   "cell_type": "code",
   "execution_count": 3,
   "id": "3b0be518-ed4d-4bc2-8b97-945c76d301c8",
   "metadata": {},
   "outputs": [
    {
     "data": {
      "text/markdown": [
       "Model Evaluation, Model Selection, and Algorithm\n",
       "Selection in Machine Learning\n",
       "Sebastian Raschka\n",
       "University of Wisconsin–Madison\n",
       "Department of Statistics\n",
       "November 2018\n",
       "sraschka@wisc.edu\n",
       "Abstract\n",
       "The correct use of model evaluation, model selection, and algorithm selection\n",
       "techniques is vital in academic machine learning research as well as in many\n",
       "industrial settings. This article reviews different techniques that can be used for\n",
       "each of these three subtasks and discusses the main advantages and disadvantages\n",
       "of each technique with references to theoretical and empirical studies. Further,\n",
       "recommendations are given to encourage best yet feasible practices in research and\n",
       "applications of machine learning. Common methods such as the holdout method\n",
       "for model evaluation and selection are covered, which are not recommended\n",
       "when working with small datasets. Different ﬂavors of the bootstrap technique\n",
       "are introduced for estimating the uncertainty of performance estimates, as an\n",
       "alternative to "
      ],
      "text/plain": [
       "<IPython.core.display.Markdown object>"
      ]
     },
     "execution_count": 3,
     "metadata": {},
     "output_type": "execute_result"
    }
   ],
   "source": [
    "from IPython.display import Markdown\n",
    "\n",
    "page = pages[0]\n",
    "Markdown(page.page_content[0:1000])"
   ]
  },
  {
   "cell_type": "code",
   "execution_count": 4,
   "id": "fdcae393-f9d5-4b35-95c4-a789df757236",
   "metadata": {},
   "outputs": [
    {
     "data": {
      "text/plain": [
       "{'producer': 'pdfTeX-1.40.21',\n",
       " 'creator': 'LaTeX with hyperref',\n",
       " 'creationdate': '2020-11-12T01:17:31+00:00',\n",
       " 'author': '',\n",
       " 'keywords': '',\n",
       " 'moddate': '2020-11-12T01:17:31+00:00',\n",
       " 'ptex.fullbanner': 'This is pdfTeX, Version 3.14159265-2.6-1.40.21 (TeX Live 2020) kpathsea version 6.3.2',\n",
       " 'subject': '',\n",
       " 'title': '',\n",
       " 'trapped': '/False',\n",
       " 'source': 'data/1811.12808v3.pdf',\n",
       " 'total_pages': 49,\n",
       " 'page': 0,\n",
       " 'page_label': '1'}"
      ]
     },
     "execution_count": 4,
     "metadata": {},
     "output_type": "execute_result"
    }
   ],
   "source": [
    "page.metadata"
   ]
  },
  {
   "cell_type": "code",
   "execution_count": 5,
   "id": "38f61f8a-b800-4c81-a80f-f65af9691cd8",
   "metadata": {},
   "outputs": [
    {
     "data": {
      "text/plain": [
       "157"
      ]
     },
     "execution_count": 5,
     "metadata": {},
     "output_type": "execute_result"
    }
   ],
   "source": [
    "from langchain.text_splitter import RecursiveCharacterTextSplitter\n",
    "\n",
    "splitter = RecursiveCharacterTextSplitter(chunk_size=1000, chunk_overlap=100)\n",
    "docs = splitter.split_documents(pages)\n",
    "len(docs)"
   ]
  },
  {
   "cell_type": "code",
   "execution_count": 6,
   "id": "bbb92daf-3912-4058-b513-8ec0c717c4dd",
   "metadata": {},
   "outputs": [],
   "source": [
    "from langchain_google_genai import GoogleGenerativeAIEmbeddings\n",
    "\n",
    "embedding = GoogleGenerativeAIEmbeddings(model=\"models/embedding-001\")"
   ]
  },
  {
   "cell_type": "code",
   "execution_count": 7,
   "id": "d6763d10-e8b3-4d14-ae06-9acaff8d8b6d",
   "metadata": {},
   "outputs": [],
   "source": [
    "from langchain.vectorstores import Chroma\n",
    "\n",
    "persist_directory = \"docs/chroma/\"\n",
    "\n",
    "vectordb = Chroma.from_documents(\n",
    "    documents=docs, embedding=embedding, persist_directory=persist_directory\n",
    ")\n",
    "# vectordb.persist()\n",
    "# vectordb = Chroma(persist_directory=persist_directory, embedding_function=embedding)"
   ]
  },
  {
   "cell_type": "code",
   "execution_count": 8,
   "id": "b9bb04b2-c809-4aa7-b28e-cf59d11de8aa",
   "metadata": {},
   "outputs": [],
   "source": [
    "question = \"p-value\"\n",
    "docs = vectordb.similarity_search(question, k=3)"
   ]
  },
  {
   "cell_type": "code",
   "execution_count": 9,
   "id": "b2a0a805-3786-46b4-b845-7b40f77a1917",
   "metadata": {},
   "outputs": [
    {
     "data": {
      "text/markdown": [
       "Nonetheless, for the sake of completeness, and since it a commonly used method in practice, the\n",
       "general procedure is outlined below as follows (which also generally applies to the different hypothesis\n",
       "tests presented later):\n",
       "1. formulate the hypothesis to be tested (for instance, the null hypothesis stating that the\n",
       "proportions are the same; consequently, the alternative hypothesis that the proportions are\n",
       "different, if we use a two-tailed test);\n",
       "2. decide upon a signiﬁcance threshold (for instance, if the probability of observing a difference\n",
       "more extreme than the one seen is more than 5%, then we plan to reject the null hypothesis);\n",
       "3. analyze the data, compute the test statistic ( here: z-score), and compare its associated\n",
       "p-value (probability) to the previously determined signiﬁcance threshold;\n",
       "4. based on the p-value and signiﬁcance threshold, either accept or reject the null hypothesis at\n",
       "the given conﬁdence level and interpret the results."
      ],
      "text/plain": [
       "<IPython.core.display.Markdown object>"
      ]
     },
     "execution_count": 9,
     "metadata": {},
     "output_type": "execute_result"
    }
   ],
   "source": [
    "Markdown(docs[0].page_content)"
   ]
  },
  {
   "cell_type": "code",
   "execution_count": 10,
   "id": "70a02cc2-95a9-41f8-a6bd-25303d29a8db",
   "metadata": {},
   "outputs": [],
   "source": [
    "from langchain_google_genai import ChatGoogleGenerativeAI\n",
    "\n",
    "llm = ChatGoogleGenerativeAI(model=\"gemini-1.5-pro\")"
   ]
  },
  {
   "cell_type": "code",
   "execution_count": 11,
   "id": "d2733b8f-640b-4f76-b5b7-c2ca25b5924e",
   "metadata": {},
   "outputs": [],
   "source": [
    "from langchain.prompts import PromptTemplate\n",
    "\n",
    "template = \"\"\"\n",
    "    You are an assistant for question-answering tasks. \n",
    "    Use the following pieces of retrieved context to answer the question. \n",
    "    If you don't know the answer, just say that you don't know. \n",
    "    Use five sentences maximum and keep the answer concise.\n",
    "    {context}\n",
    "    Question: {question}\n",
    "    Helpful Answer:\n",
    "\"\"\"\n",
    "\n",
    "QA_CHAIN_PROMPT = PromptTemplate.from_template(template)"
   ]
  },
  {
   "cell_type": "code",
   "execution_count": 12,
   "id": "265a2e00-66d6-42f3-ac7b-98df660cd8ad",
   "metadata": {},
   "outputs": [],
   "source": [
    "from langchain.chains import RetrievalQA\n",
    "\n",
    "qa_chain = RetrievalQA.from_chain_type(\n",
    "    llm=llm,\n",
    "    retriever=vectordb.as_retriever(),\n",
    "    return_source_documents=True,\n",
    "    chain_type_kwargs={\"prompt\": QA_CHAIN_PROMPT},\n",
    ")"
   ]
  },
  {
   "cell_type": "code",
   "execution_count": 13,
   "id": "559655f0-22ca-44a1-affe-717812a478ab",
   "metadata": {},
   "outputs": [],
   "source": [
    "query = \"Is nuclear physics discussed in these documents?\"\n",
    "result = qa_chain.invoke({\"query\": query})"
   ]
  },
  {
   "cell_type": "code",
   "execution_count": 14,
   "id": "1a2deb25-ac70-4175-90fe-101ded2c75fa",
   "metadata": {},
   "outputs": [
    {
     "data": {
      "text/markdown": [
       "The provided text references confusion matrices and contingency tables, topics related to machine learning evaluation.  It also mentions comparing predictions of two models.  There is no mention of nuclear physics in the given context.  Therefore, the answer is no."
      ],
      "text/plain": [
       "<IPython.core.display.Markdown object>"
      ]
     },
     "execution_count": 14,
     "metadata": {},
     "output_type": "execute_result"
    }
   ],
   "source": [
    "Markdown(result[\"result\"])"
   ]
  },
  {
   "cell_type": "raw",
   "id": "5339ce32-548a-4311-873a-7995f35ec6fa",
   "metadata": {},
   "source": [
    "result[\"source_documents\"]"
   ]
  },
  {
   "cell_type": "code",
   "execution_count": 15,
   "id": "beb77b6e-f1b2-4a3d-866b-21f694c44ea6",
   "metadata": {},
   "outputs": [],
   "source": [
    "query = \"What statistical tests are discussed in these documents?\"\n",
    "result = qa_chain.invoke({\"query\": query})"
   ]
  },
  {
   "cell_type": "code",
   "execution_count": 16,
   "id": "e838e902-a65d-4d64-9d6c-66a4772dbfb8",
   "metadata": {},
   "outputs": [
    {
     "data": {
      "text/markdown": [
       "The provided text discusses hypothesis testing using a z-score and p-value.  It outlines a four-step procedure: formulating hypotheses, setting a significance threshold, calculating the test statistic and p-value, and then accepting or rejecting the null hypothesis.  Additionally, it details calculating an F-statistic from mean SSA (sum of squares of classifiers) and MSAB (mean sum of squares for classification-object interaction) values.  The text doesn't name specific statistical tests beyond these general procedures. "
      ],
      "text/plain": [
       "<IPython.core.display.Markdown object>"
      ]
     },
     "execution_count": 16,
     "metadata": {},
     "output_type": "execute_result"
    }
   ],
   "source": [
    "Markdown(result[\"result\"])"
   ]
  },
  {
   "cell_type": "code",
   "execution_count": null,
   "id": "274d5dc7-3b95-46e5-a45d-02bb28244078",
   "metadata": {},
   "outputs": [],
   "source": []
  }
 ],
 "metadata": {
  "kernelspec": {
   "display_name": "Python 3 (ipykernel)",
   "language": "python",
   "name": "python3"
  },
  "language_info": {
   "codemirror_mode": {
    "name": "ipython",
    "version": 3
   },
   "file_extension": ".py",
   "mimetype": "text/x-python",
   "name": "python",
   "nbconvert_exporter": "python",
   "pygments_lexer": "ipython3",
   "version": "3.11.13"
  }
 },
 "nbformat": 4,
 "nbformat_minor": 5
}
