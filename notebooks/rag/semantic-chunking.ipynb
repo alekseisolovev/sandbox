{
 "cells": [
  {
   "cell_type": "code",
   "execution_count": 1,
   "id": "469bb88b-cc6c-473b-909c-05be957aa722",
   "metadata": {},
   "outputs": [],
   "source": [
    "import os\n",
    "\n",
    "os.environ[\"PROTOCOL_BUFFERS_PYTHON_IMPLEMENTATION\"] = \"python\""
   ]
  },
  {
   "cell_type": "code",
   "execution_count": 2,
   "id": "49c04743-8535-4e8f-8d4e-ee1008f8b62e",
   "metadata": {},
   "outputs": [],
   "source": [
    "from langchain.document_loaders import PyPDFLoader\n",
    "\n",
    "loader = PyPDFLoader(\"/sandbox/notebooks/data/1811.12808v3.pdf\")\n",
    "pages = loader.load()"
   ]
  },
  {
   "cell_type": "code",
   "execution_count": 3,
   "id": "da18b33b-d81a-475c-b532-4928d60e5880",
   "metadata": {},
   "outputs": [
    {
     "data": {
      "text/plain": [
       "47"
      ]
     },
     "execution_count": 3,
     "metadata": {},
     "output_type": "execute_result"
    }
   ],
   "source": [
    "pages = pages[:-2]\n",
    "len(pages)"
   ]
  },
  {
   "cell_type": "code",
   "execution_count": 4,
   "id": "3b0be518-ed4d-4bc2-8b97-945c76d301c8",
   "metadata": {},
   "outputs": [
    {
     "data": {
      "text/markdown": [
       "Model Evaluation, Model Selection, and Algorithm\n",
       "Selection in Machine Learning\n",
       "Sebastian Raschka\n",
       "University of Wisconsin–Madison\n",
       "Department of Statistics\n",
       "November 2018\n",
       "sraschka@wisc.edu\n",
       "Abstract\n",
       "The correct use of model evaluation, model selection, and algorithm selection\n",
       "techniques is vital in academic machine learning research as well as in many\n",
       "industrial settings. This article reviews different techniques that can be used for\n",
       "each of these three subtasks and discusses the main advantages and disadvantages\n",
       "of each technique with references to theoretical and empirical studies. Further,\n",
       "recommendations are given to encourage best yet feasible practices in research and\n",
       "applications of machine learning. Common methods such as the holdout method\n",
       "for model evaluation and selection are covered, which are not recommended\n",
       "when working with small datasets. Different ﬂavors of the bootstrap technique\n",
       "are introduced for estimating the uncertainty of performance estimates, as an\n",
       "alternative to "
      ],
      "text/plain": [
       "<IPython.core.display.Markdown object>"
      ]
     },
     "execution_count": 4,
     "metadata": {},
     "output_type": "execute_result"
    }
   ],
   "source": [
    "from IPython.display import Markdown\n",
    "\n",
    "page = pages[0]\n",
    "Markdown(page.page_content[0:1000])"
   ]
  },
  {
   "cell_type": "code",
   "execution_count": 5,
   "id": "fdcae393-f9d5-4b35-95c4-a789df757236",
   "metadata": {},
   "outputs": [
    {
     "data": {
      "text/plain": [
       "{'producer': 'pdfTeX-1.40.21',\n",
       " 'creator': 'LaTeX with hyperref',\n",
       " 'creationdate': '2020-11-12T01:17:31+00:00',\n",
       " 'author': '',\n",
       " 'keywords': '',\n",
       " 'moddate': '2020-11-12T01:17:31+00:00',\n",
       " 'ptex.fullbanner': 'This is pdfTeX, Version 3.14159265-2.6-1.40.21 (TeX Live 2020) kpathsea version 6.3.2',\n",
       " 'subject': '',\n",
       " 'title': '',\n",
       " 'trapped': '/False',\n",
       " 'source': '/sandbox/notebooks/data/1811.12808v3.pdf',\n",
       " 'total_pages': 49,\n",
       " 'page': 0,\n",
       " 'page_label': '1'}"
      ]
     },
     "execution_count": 5,
     "metadata": {},
     "output_type": "execute_result"
    }
   ],
   "source": [
    "page.metadata"
   ]
  },
  {
   "cell_type": "code",
   "execution_count": 6,
   "id": "54b423e1-f0bb-41eb-b9ae-f0513c39cd02",
   "metadata": {},
   "outputs": [
    {
     "data": {
      "text/plain": [
       "152"
      ]
     },
     "execution_count": 6,
     "metadata": {},
     "output_type": "execute_result"
    }
   ],
   "source": [
    "import os\n",
    "import pickle\n",
    "\n",
    "from langchain_experimental.text_splitter import SemanticChunker\n",
    "from langchain_google_genai import GoogleGenerativeAIEmbeddings\n",
    "\n",
    "if os.path.exists(\"docs.pkl\"):\n",
    "    with open(\"docs.pkl\", \"rb\") as f:\n",
    "        docs = pickle.load(f)\n",
    "else:\n",
    "    semantic_splitter = SemanticChunker(\n",
    "        GoogleGenerativeAIEmbeddings(model=\"models/embedding-001\"),\n",
    "        breakpoint_threshold_type=\"percentile\",\n",
    "    )\n",
    "    docs = semantic_splitter.split_documents(pages)\n",
    "    with open(\"docs.pkl\", \"wb\") as f:\n",
    "        pickle.dump(docs, f)\n",
    "\n",
    "len(docs)"
   ]
  },
  {
   "cell_type": "code",
   "execution_count": 7,
   "id": "d6763d10-e8b3-4d14-ae06-9acaff8d8b6d",
   "metadata": {},
   "outputs": [],
   "source": [
    "from langchain.vectorstores import Chroma\n",
    "\n",
    "persist_directory = \"docs/chroma/\"\n",
    "\n",
    "vectordb = Chroma.from_documents(\n",
    "    documents=docs,\n",
    "    embedding=GoogleGenerativeAIEmbeddings(model=\"models/embedding-001\"),\n",
    "    persist_directory=persist_directory,\n",
    ")\n",
    "# vectordb.persist()\n",
    "# vectordb = Chroma(persist_directory=persist_directory, embedding_function=embedding)"
   ]
  },
  {
   "cell_type": "code",
   "execution_count": 8,
   "id": "b9bb04b2-c809-4aa7-b28e-cf59d11de8aa",
   "metadata": {},
   "outputs": [],
   "source": [
    "question = \"linear regression\"\n",
    "docs = vectordb.similarity_search(question, k=3)"
   ]
  },
  {
   "cell_type": "code",
   "execution_count": 9,
   "id": "b2a0a805-3786-46b4-b845-7b40f77a1917",
   "metadata": {},
   "outputs": [
    {
     "data": {
      "text/markdown": [
       "regression, the model parameters, are updated by maximizing a log-likelihood function or minimizing\n",
       "the logistic cost. For ﬁtting a model to the training data, a hyperparameter of a logistic regression\n",
       "algorithm could be the number of iterations or passes over the training set (epochs) in gradient-based\n",
       "optimization. Another example of a hyperparameter would be the value of a regularization parameter\n",
       "such as the lambda-term in L2-regularized logistic regression (Figure 11). Figure 11: Conceptual overview of logistic regression. Changing the hyperparameter values when running a learning algorithm over a training set may result\n",
       "in different models."
      ],
      "text/plain": [
       "<IPython.core.display.Markdown object>"
      ]
     },
     "execution_count": 9,
     "metadata": {},
     "output_type": "execute_result"
    }
   ],
   "source": [
    "Markdown(docs[0].page_content)"
   ]
  },
  {
   "cell_type": "code",
   "execution_count": 10,
   "id": "70a02cc2-95a9-41f8-a6bd-25303d29a8db",
   "metadata": {},
   "outputs": [],
   "source": [
    "from langchain_google_genai import ChatGoogleGenerativeAI\n",
    "\n",
    "llm = ChatGoogleGenerativeAI(model=\"gemini-2.5-flash\")"
   ]
  },
  {
   "cell_type": "code",
   "execution_count": 11,
   "id": "d2733b8f-640b-4f76-b5b7-c2ca25b5924e",
   "metadata": {},
   "outputs": [],
   "source": [
    "from langchain.prompts import PromptTemplate\n",
    "\n",
    "template = \"\"\"\n",
    "    You are an assistant for question-answering tasks. \n",
    "    Use the following pieces of retrieved context to answer the question. \n",
    "    If you don't know the answer, just say that you don't know. \n",
    "    Use five sentences maximum and keep the answer concise.\n",
    "    {context}\n",
    "    Question: {question}\n",
    "    Helpful Answer:\n",
    "\"\"\"\n",
    "\n",
    "QA_CHAIN_PROMPT = PromptTemplate.from_template(template)"
   ]
  },
  {
   "cell_type": "code",
   "execution_count": 12,
   "id": "265a2e00-66d6-42f3-ac7b-98df660cd8ad",
   "metadata": {},
   "outputs": [],
   "source": [
    "from langchain.chains import RetrievalQA\n",
    "\n",
    "qa_chain = RetrievalQA.from_chain_type(\n",
    "    llm=llm,\n",
    "    retriever=vectordb.as_retriever(),\n",
    "    return_source_documents=True,\n",
    "    chain_type_kwargs={\"prompt\": QA_CHAIN_PROMPT},\n",
    ")"
   ]
  },
  {
   "cell_type": "code",
   "execution_count": 13,
   "id": "559655f0-22ca-44a1-affe-717812a478ab",
   "metadata": {},
   "outputs": [],
   "source": [
    "query = \"Are transformers discussed in these documents?\"\n",
    "result = qa_chain.invoke({\"query\": query})"
   ]
  },
  {
   "cell_type": "code",
   "execution_count": 14,
   "id": "1a2deb25-ac70-4175-90fe-101ded2c75fa",
   "metadata": {},
   "outputs": [
    {
     "data": {
      "text/markdown": [
       "No, transformers are not discussed in these documents. The provided text focuses on model parameters like weight coefficients and bias terms, and introduces the holdout method for model evaluation, including splitting datasets into training and test sets."
      ],
      "text/plain": [
       "<IPython.core.display.Markdown object>"
      ]
     },
     "execution_count": 14,
     "metadata": {},
     "output_type": "execute_result"
    }
   ],
   "source": [
    "Markdown(result[\"result\"])"
   ]
  },
  {
   "cell_type": "raw",
   "id": "ce31f155-0cab-4974-a899-5bd5c1ca420b",
   "metadata": {},
   "source": [
    "result[\"source_documents\"]"
   ]
  },
  {
   "cell_type": "code",
   "execution_count": 15,
   "id": "beb77b6e-f1b2-4a3d-866b-21f694c44ea6",
   "metadata": {},
   "outputs": [],
   "source": [
    "query = \"What statistical tests are discussed in these documents?\"\n",
    "result = qa_chain.invoke({\"query\": query})"
   ]
  },
  {
   "cell_type": "code",
   "execution_count": 16,
   "id": "e838e902-a65d-4d64-9d6c-66a4772dbfb8",
   "metadata": {},
   "outputs": [
    {
     "data": {
      "text/markdown": [
       "The documents discuss a general procedure for various hypothesis tests. Specifically, they mention computing the z-score as a test statistic within this procedure. The text also refers to the Binomial Test and Multiple Hypotheses Testing."
      ],
      "text/plain": [
       "<IPython.core.display.Markdown object>"
      ]
     },
     "execution_count": 16,
     "metadata": {},
     "output_type": "execute_result"
    }
   ],
   "source": [
    "Markdown(result[\"result\"])"
   ]
  },
  {
   "cell_type": "code",
   "execution_count": null,
   "id": "274d5dc7-3b95-46e5-a45d-02bb28244078",
   "metadata": {},
   "outputs": [],
   "source": []
  }
 ],
 "metadata": {
  "kernelspec": {
   "display_name": "Python 3 (ipykernel)",
   "language": "python",
   "name": "python3"
  },
  "language_info": {
   "codemirror_mode": {
    "name": "ipython",
    "version": 3
   },
   "file_extension": ".py",
   "mimetype": "text/x-python",
   "name": "python",
   "nbconvert_exporter": "python",
   "pygments_lexer": "ipython3",
   "version": "3.11.13"
  }
 },
 "nbformat": 4,
 "nbformat_minor": 5
}
