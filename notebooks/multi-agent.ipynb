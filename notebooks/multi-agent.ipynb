{
 "cells": [
  {
   "cell_type": "code",
   "execution_count": 1,
   "id": "794ca29f-03fa-4360-9f26-6b259600ebde",
   "metadata": {},
   "outputs": [],
   "source": [
    "from typing import Annotated, Literal, TypedDict\n",
    "\n",
    "from IPython.display import Image, Markdown\n",
    "from langchain_core.messages import HumanMessage\n",
    "from langchain_google_genai import ChatGoogleGenerativeAI\n",
    "from langgraph.graph import END, StateGraph\n",
    "from pydantic import BaseModel"
   ]
  },
  {
   "cell_type": "code",
   "execution_count": 2,
   "id": "2fd4abbe-6109-4eca-874b-7df2bc3dc3d9",
   "metadata": {},
   "outputs": [],
   "source": [
    "class AgentState(TypedDict):\n",
    "    question: str\n",
    "    response: str\n",
    "    sender: str\n",
    "\n",
    "\n",
    "def code_writer(state: AgentState):\n",
    "    print(\"---CALLING CODE WRITER---\")\n",
    "    prompt = f\"\"\"You are an expert software developer. \n",
    "    Your task is to write a clean, efficient, and well-documented Python function based on the following user request.\n",
    "    User Request: {state['question']}\n",
    "    Please provide only the Python code block in your response, without any explanatory text.\n",
    "    \"\"\"\n",
    "    message = HumanMessage(content=prompt)\n",
    "    response = llm.invoke([message])\n",
    "    return {\"response\": response.content, \"sender\": \"code_writer\"}\n",
    "\n",
    "\n",
    "def code_reviewer(state: AgentState):\n",
    "    \"\"\"\n",
    "    An agent that reviews existing code for errors, improvements, and best practices.\n",
    "    \"\"\"\n",
    "    print(\"---CALLING CODE REVIEWER---\")\n",
    "    prompt = f\"\"\"You are an expert code reviewer. \n",
    "    Your task is to analyze the Python code within the user's request below. \n",
    "    Look for any bugs, style issues, or potential improvements. \n",
    "    Provide a concise, constructive review.\n",
    "    User Request:\n",
    "    {state['question']}\n",
    "    \"\"\"\n",
    "    message = HumanMessage(content=prompt)\n",
    "    response = llm.invoke([message])\n",
    "    return {\"response\": response.content}\n",
    "\n",
    "\n",
    "llm = ChatGoogleGenerativeAI(model=\"gemini-2.0-flash\")"
   ]
  },
  {
   "cell_type": "code",
   "execution_count": 3,
   "id": "fab5eeac-8991-43fb-8bd4-a0df0241a031",
   "metadata": {},
   "outputs": [],
   "source": [
    "class RouterSchema(BaseModel):\n",
    "    next: Literal[\"code_writer\", \"code_reviewer\"]\n",
    "\n",
    "\n",
    "def router(state: AgentState) -> Literal[\"code_writer\", \"code_reviewer\"]:\n",
    "    print(\"---ROUTING REQUEST---\")\n",
    "    prompt = f\"\"\"You are an expert router. \n",
    "    Your job is to determine whether the user wants to write new code or review existing code based on their request.\n",
    "    - If the request is a prompt to create something new (e.g., \"write a function\", \"create a script\"), route to the 'code_writer'.\n",
    "    - If the request includes a block of code or asks to \"review\", \"fix\", or \"improve\" code, route to the 'code_reviewer'.\n",
    "    User request: \"{state['question']}\"\n",
    "    \"\"\"\n",
    "    message = HumanMessage(content=prompt)\n",
    "    route = router_llm.invoke([message])\n",
    "    print(f\"---ROUTING DECISION: {route.next}---\")\n",
    "    return {\"sender\": \"router\", \"next_node\": route.next}\n",
    "\n",
    "\n",
    "router_llm = llm.with_structured_output(RouterSchema)"
   ]
  },
  {
   "cell_type": "code",
   "execution_count": 4,
   "id": "80a0a783-1dee-43aa-a3db-66ff8ce581cc",
   "metadata": {},
   "outputs": [
    {
     "data": {
      "image/png": "[encoded data removed]",
      "text/plain": [
       "<IPython.core.display.Image object>"
      ]
     },
     "execution_count": 4,
     "metadata": {},
     "output_type": "execute_result"
    }
   ],
   "source": [
    "workflow = StateGraph(AgentState)\n",
    "workflow.add_node(\"router\", router)\n",
    "workflow.add_node(\"code_writer\", code_writer)\n",
    "workflow.add_node(\"code_reviewer\", code_reviewer)\n",
    "\n",
    "workflow.set_entry_point(\"router\")\n",
    "\n",
    "workflow.add_conditional_edges(\n",
    "    \"router\",\n",
    "    lambda state: state[\"next_node\"],\n",
    "    {\n",
    "        \"code_writer\": \"code_writer\",\n",
    "        \"code_reviewer\": \"code_reviewer\",\n",
    "    },\n",
    ")\n",
    "\n",
    "workflow.add_edge(\"code_writer\", END)\n",
    "workflow.add_edge(\"code_reviewer\", END)\n",
    "\n",
    "graph = workflow.compile()\n",
    "Image(graph.get_graph().draw_mermaid_png())"
   ]
  },
  {
   "cell_type": "code",
   "execution_count": 5,
   "id": "23c1b05c-0722-4dc7-b904-4442510a2faf",
   "metadata": {},
   "outputs": [
    {
     "name": "stdout",
     "output_type": "stream",
     "text": [
      "---ROUTING REQUEST---\n",
      "---ROUTING DECISION: code_writer---\n",
      "---CALLING CODE WRITER---\n"
     ]
    },
    {
     "data": {
      "text/markdown": [
       "```python\n",
       "def get_even_numbers(numbers):\n",
       "    \"\"\"\n",
       "    Filters a list of integers and returns a new list containing only the even numbers.\n",
       "\n",
       "    Args:\n",
       "        numbers (list): A list of integers.\n",
       "\n",
       "    Returns:\n",
       "        list: A new list containing only the even numbers from the input list.\n",
       "             Returns an empty list if the input list is empty or contains no even numbers.\n",
       "    \"\"\"\n",
       "    even_numbers = [number for number in numbers if number % 2 == 0]\n",
       "    return even_numbers\n",
       "```"
      ],
      "text/plain": [
       "<IPython.core.display.Markdown object>"
      ]
     },
     "execution_count": 5,
     "metadata": {},
     "output_type": "execute_result"
    }
   ],
   "source": [
    "question = \"Write a Python function that takes a list of integers and returns a new list with only the even numbers.\"\n",
    "result = graph.invoke({\"question\": question})\n",
    "\n",
    "Markdown(result[\"response\"])"
   ]
  },
  {
   "cell_type": "code",
   "execution_count": 6,
   "id": "8dded900-0d81-4585-aa45-f54a7dbd9474",
   "metadata": {},
   "outputs": [
    {
     "name": "stdout",
     "output_type": "stream",
     "text": [
      "---ROUTING REQUEST---\n",
      "---ROUTING DECISION: code_reviewer---\n",
      "---CALLING CODE REVIEWER---\n"
     ]
    },
    {
     "data": {
      "text/markdown": [
       "Okay, I've reviewed the Python code. Here's my assessment:\n",
       "\n",
       "*   **Bug:** The code does indeed have a potential bug. The `add` function doesn't explicitly handle different data types. When you call `add(\"2\", 3)`, it attempts to add a string and an integer, which results in a `TypeError`.\n",
       "*   **Type Handling:** The comment \"This function has a potential bug with types\" is accurate and highlights the issue. Consider adding type checking or casting to handle different input types gracefully, depending on the intended behavior.\n",
       "*   **Clarity:** The code is simple and easy to understand. The comment is helpful in pointing out the potential problem.\n",
       "*   **Improvement Suggestion:** To fix the bug, you could cast both arguments to integers or floats before adding them, but this depends on the intended use of the add function. Alternatively, you could raise a TypeError if incompatible types are passed.\n",
       "\n",
       "Here's an example of handling the potential TypeError with type casting (assuming the intention is numerical addition):\n",
       "\n",
       "```python\n",
       "def add(a, b):\n",
       "    \"\"\"Adds two numbers, attempting to convert them to integers if possible.\"\"\"\n",
       "    try:\n",
       "        a = int(a)\n",
       "        b = int(b)\n",
       "    except ValueError:\n",
       "        raise TypeError(\"Inputs must be convertible to integers.\")\n",
       "    return a + b\n",
       "\n",
       "print(add(\"2\", 3))\n",
       "```\n",
       "\n",
       "Or, if string concatenation is desired:\n",
       "\n",
       "```python\n",
       "def add(a, b):\n",
       "    \"\"\"Adds two values, converting them to strings and concatenating.\"\"\"\n",
       "    return str(a) + str(b)\n",
       "\n",
       "print(add(\"2\", 3))\n",
       "```\n",
       "\n",
       "Choose the solution that best fits the function's intended purpose."
      ],
      "text/plain": [
       "<IPython.core.display.Markdown object>"
      ]
     },
     "execution_count": 6,
     "metadata": {},
     "output_type": "execute_result"
    }
   ],
   "source": [
    "code_to_review = \"\"\"\n",
    "def add(a, b):\n",
    "    # This function has a potential bug with types\n",
    "    return a + b\n",
    "\n",
    "print(add(\"2\", 3)) # This will cause a TypeError\n",
    "\"\"\"\n",
    "question = f\"Can you review this piece of code for me? It seems to have a bug.\\n\\n```python\\n{code_to_review}\\n```\"\n",
    "result = graph.invoke({\"question\": question})\n",
    "\n",
    "Markdown(result[\"response\"])"
   ]
  },
  {
   "cell_type": "code",
   "execution_count": null,
   "id": "5924d94f-1f0f-4f7a-8995-1447fee1ae7b",
   "metadata": {},
   "outputs": [],
   "source": []
  }
 ],
 "metadata": {
  "kernelspec": {
   "display_name": "Python 3 (ipykernel)",
   "language": "python",
   "name": "python3"
  },
  "language_info": {
   "codemirror_mode": {
    "name": "ipython",
    "version": 3
   },
   "file_extension": ".py",
   "mimetype": "text/x-python",
   "name": "python",
   "nbconvert_exporter": "python",
   "pygments_lexer": "ipython3",
   "version": "3.11.13"
  }
 },
 "nbformat": 4,
 "nbformat_minor": 5
}
