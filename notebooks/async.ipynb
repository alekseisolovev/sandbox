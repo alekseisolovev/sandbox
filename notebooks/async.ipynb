{
 "cells": [
  {
   "cell_type": "code",
   "execution_count": 1,
   "id": "6aee9b8a-d8d4-4aeb-a644-afeb6c1edc23",
   "metadata": {},
   "outputs": [
    {
     "data": {
      "image/png": "[encoded data removed]",
      "text/plain": [
       "<IPython.core.display.Image object>"
      ]
     },
     "execution_count": 1,
     "metadata": {},
     "output_type": "execute_result"
    }
   ],
   "source": [
    "import os\n",
    "from typing import TypedDict\n",
    "\n",
    "from IPython.display import Image, Markdown\n",
    "from langchain_google_genai import ChatGoogleGenerativeAI\n",
    "from langgraph.graph import END, START, StateGraph\n",
    "\n",
    "\n",
    "class AgentState(TypedDict):\n",
    "    question: str\n",
    "    conceptual_overview: str\n",
    "    complexity_analysis: str\n",
    "    response: str\n",
    "\n",
    "\n",
    "llm = ChatGoogleGenerativeAI(model=\"gemini-1.5-flash\")\n",
    "\n",
    "\n",
    "async def conceptual_overview_node(state: AgentState):\n",
    "    prompt_template = f\"\"\"\n",
    "As an expert programming tutor, explain the core concept of the LeetCode problem below in a simple, \"Explain Like I'm 5\" style. \n",
    "Your main goal is to provide a mental model or real-world analogy that helps user discover an efficient solution on their own. Hint at the key insight or trade-off needed, but do not name any specific algorithm or data structure.\n",
    "Do not write or reference any code.\n",
    "Problem:\n",
    "{state[\"question\"]}\n",
    "\"\"\"\n",
    "    response = await llm.ainvoke(prompt_template)\n",
    "    return {\"conceptual_overview\": response.content}\n",
    "\n",
    "\n",
    "async def complexity_analysis_node(state: AgentState):\n",
    "    prompt_template = f\"\"\"\n",
    "As a senior engineer, intuitively explain the time and space complexity for an optimal solution to the LeetCode problem below. \n",
    "Explain *why* the runtime is what it is. Focus on how the number of operations grows as the input size increases. For example, does the solution need to process each piece of the input just once, or multiple times?\n",
    "Explain *why* extra memory might be needed. Describe what information needs to be stored and how its size relates to the original input.\n",
    "Do not write or reference any code.\n",
    "Problem:\n",
    "{state[\"question\"]}\n",
    "\"\"\"\n",
    "    response = await llm.ainvoke(prompt_template)\n",
    "    return {\"complexity_analysis\": response.content}\n",
    "\n",
    "\n",
    "def compiler_node(state: AgentState):\n",
    "    conceptual_overview = state.get(\"conceptual_overview\", \"No overview generated.\")\n",
    "    complexity_analysis = state.get(\n",
    "        \"complexity_analysis\", \"No complexity analysis generated.\"\n",
    "    )\n",
    "    report = f\"\"\"## LeetCode Problem Analysis\n",
    "\n",
    "### Conceptual Overview\n",
    "{conceptual_overview}\n",
    "### Complexity Analysis\n",
    "{complexity_analysis}\n",
    "\"\"\"\n",
    "    return {\"response\": report}\n",
    "\n",
    "\n",
    "builder = StateGraph(AgentState)\n",
    "builder.add_node(\"conceptual_overview_node\", conceptual_overview_node)\n",
    "builder.add_node(\"complexity_analysis_node\", complexity_analysis_node)\n",
    "builder.add_node(\"compiler_node\", compiler_node)\n",
    "\n",
    "builder.add_edge(START, \"conceptual_overview_node\")\n",
    "builder.add_edge(START, \"complexity_analysis_node\")\n",
    "builder.add_edge(\"conceptual_overview_node\", \"compiler_node\")\n",
    "builder.add_edge(\"complexity_analysis_node\", \"compiler_node\")\n",
    "builder.add_edge(\"compiler_node\", END)\n",
    "\n",
    "graph = builder.compile()\n",
    "\n",
    "Image(graph.get_graph().draw_mermaid_png())"
   ]
  },
  {
   "cell_type": "code",
   "execution_count": 2,
   "id": "72ffe7a6-b954-41a2-83a0-6fbe114ca302",
   "metadata": {},
   "outputs": [
    {
     "data": {
      "text/markdown": [
       "## LeetCode Problem Analysis\n",
       "\n",
       "### Conceptual Overview\n",
       "Imagine you have a box of LEGO bricks, each with a number written on it.  You need to find two specific bricks that, when you add their numbers together, equal a target number.\n",
       "\n",
       "You could try picking up every single brick and checking it against *every other* brick – that would work, but it would take a long, long time if you have lots of bricks!\n",
       "\n",
       "Think about a smarter way.  What if you had a special notebook where you wrote down which bricks you've already seen and what their numbers were? Then, when you pick up a brick, you can quickly check your notebook to see if there's a brick that would make the target number when added to the brick in your hand.\n",
       "\n",
       "The key is finding a way to remember the bricks you've already seen *efficiently*, so you don't have to do so much searching. There's a trade-off: using more memory (the notebook) to save a lot of time.\n",
       "### Complexity Analysis\n",
       "LeetCode problem 1, \"Two Sum,\" seeks two numbers within an array that add up to a target value.  An optimal solution achieves O(n) time complexity and O(n) space complexity.\n",
       "\n",
       "**Time Complexity: O(n)**\n",
       "\n",
       "The optimal solution achieves linear time because it processes each element in the input array (of size 'n') effectively only once.  A hash table (or similar data structure like a dictionary) is used.  For each number encountered, we check if its *complement* (target - number) already exists in the hash table.  If it does, we've found our pair. If not, we add the current number and its index to the hash table.  This lookup and insertion in a hash table takes, on average, constant time O(1). Since we iterate through the array once performing a constant-time operation for each element, the overall time complexity is directly proportional to the input size 'n', hence O(n).  We don't revisit any elements; each is considered only once.\n",
       "\n",
       "\n",
       "**Space Complexity: O(n)**\n",
       "\n",
       "The space complexity is linear because, in the worst-case scenario, we might need to store every number from the input array in the hash table.  The hash table's size is directly proportional to the input array's size.   Each entry in the hash table stores at least the number itself (and potentially its index). Therefore, the space required grows linearly with the input size 'n', leading to O(n) space complexity.  If the input array contained unique numbers, the hash table would need to store all 'n' numbers.  In some exceptional cases with many duplicates, it might be smaller, but it's still bounded by O(n) in the worst case.\n"
      ],
      "text/plain": [
       "<IPython.core.display.Markdown object>"
      ]
     },
     "execution_count": 2,
     "metadata": {},
     "output_type": "execute_result"
    }
   ],
   "source": [
    "question = \"Explain Leetcode 1. Two Sum\"\n",
    "result = await graph.ainvoke({\"question\": question})\n",
    "\n",
    "Markdown(result[\"response\"])"
   ]
  },
  {
   "cell_type": "code",
   "execution_count": null,
   "id": "573e4996-3a8a-4de6-bd73-12a25b7c22e7",
   "metadata": {},
   "outputs": [],
   "source": []
  }
 ],
 "metadata": {
  "kernelspec": {
   "display_name": "Python 3 (ipykernel)",
   "language": "python",
   "name": "python3"
  },
  "language_info": {
   "codemirror_mode": {
    "name": "ipython",
    "version": 3
   },
   "file_extension": ".py",
   "mimetype": "text/x-python",
   "name": "python",
   "nbconvert_exporter": "python",
   "pygments_lexer": "ipython3",
   "version": "3.11.13"
  }
 },
 "nbformat": 4,
 "nbformat_minor": 5
}
