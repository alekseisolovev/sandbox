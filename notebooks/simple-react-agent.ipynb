{
 "cells": [
  {
   "cell_type": "code",
   "execution_count": 1,
   "id": "cd7ff04c-7ab3-497c-9d50-1255d95b8c62",
   "metadata": {},
   "outputs": [],
   "source": [
    "from langchain_core.messages import AIMessage, HumanMessage, SystemMessage\n",
    "from langchain_google_genai import ChatGoogleGenerativeAI"
   ]
  },
  {
   "cell_type": "code",
   "execution_count": 2,
   "id": "12105bae-5392-416e-9edb-813a53a992aa",
   "metadata": {},
   "outputs": [],
   "source": [
    "class Agent:\n",
    "    def __init__(self, system=\"\"):\n",
    "        self.system = system\n",
    "        self.messages = []\n",
    "        if self.system:\n",
    "            self.messages.append(SystemMessage(content=system))\n",
    "        self.model = ChatGoogleGenerativeAI(model=\"gemini-1.5-flash\", temperature=0)\n",
    "\n",
    "    def __call__(self, message):\n",
    "        self.messages.append(HumanMessage(content=message))\n",
    "        result = self.execute()\n",
    "        self.messages.append(AIMessage(content=result))\n",
    "        return result\n",
    "\n",
    "    def execute(self):\n",
    "        response = self.model.invoke(self.messages)\n",
    "        return response.content"
   ]
  },
  {
   "cell_type": "raw",
   "id": "05320827-9717-472d-a9f7-0d4cbb1b3fc4",
   "metadata": {},
   "source": [
    "agent = Agent(system=\"You are a helpful assistant.\")\n",
    "\n",
    "response = agent(\"What is the capital of Germany?\")\n",
    "response"
   ]
  },
  {
   "cell_type": "code",
   "execution_count": 3,
   "id": "50d6cf41-6ab3-4090-8204-1fdb2868e90d",
   "metadata": {},
   "outputs": [],
   "source": [
    "prompt = \"\"\"\n",
    "    You run in a loop of Thought, Action, PAUSE, Observation.\n",
    "    At the end of the loop you output an Answer.\n",
    "    \n",
    "    Use Thought to describe your thoughts about the question you have been asked.\n",
    "    Use Action to run one of the actions available to you - then return PAUSE.\n",
    "    Observation will be the result of running those actions.\n",
    "    \n",
    "    Your available actions are:\n",
    "    get_apple_cost: <city>\n",
    "        Returns the cost of apples per kg in the given city.\n",
    "    \n",
    "    calculate: <expression>\n",
    "        Runs a Python calculation and returns the result. Use floating point syntax if necessary.\n",
    "    \n",
    "    Example session:\n",
    "    Question: What is the average cost of apples in Berlin, Paris, and Rome?\n",
    "    Thought: I need to get the cost of apples in each city first.\n",
    "    Action: get_apple_cost: Berlin\n",
    "    PAUSE\n",
    "    \n",
    "    You will be called again with:\n",
    "    Observation: Apples cost 3.2 €/kg in Berlin\n",
    "    Thought: Now I will get the price in Paris\n",
    "    Action: get_apple_cost: Paris\n",
    "    PAUSE\n",
    "    \n",
    "    Observation: Apples cost 2.8 €/kg in Paris\n",
    "    Thought: Now I will get the price in Rome\n",
    "    Action: get_apple_cost: Rome\n",
    "    PAUSE\n",
    "    \n",
    "    Observation: Apples cost 3.0 €/kg in Rome\n",
    "    Thought: I will now calculate the average of the three prices: (3.2 + 2.8 + 3.0) / 3\n",
    "    Action: calculate: (3.2 + 2.8 + 3.0) / 3\n",
    "    PAUSE\n",
    "    \n",
    "    Observation: 3.0\n",
    "    Answer: The average cost of apples in Berlin, Paris, and Rome is 3.0 €/kg\n",
    "\"\"\".strip()"
   ]
  },
  {
   "cell_type": "code",
   "execution_count": 4,
   "id": "4f7139eb-109c-4beb-9037-0d08d4c90c2c",
   "metadata": {},
   "outputs": [],
   "source": [
    "def get_apple_cost(city):\n",
    "    prices = {\"Berlin\": 3.2, \"Paris\": 2.8, \"Rome\": 3.0, \"Madrid\": 2.5, \"London\": 3.5}\n",
    "    if city in prices:\n",
    "        return f\"Apples cost {prices[city]} €/kg in {city}\"\n",
    "    else:\n",
    "        return \"City not found\"\n",
    "\n",
    "\n",
    "def calculate(x):\n",
    "    return eval(x)\n",
    "\n",
    "\n",
    "known_actions = {\n",
    "    \"get_apple_cost\": get_apple_cost,\n",
    "    \"calculate\": calculate,\n",
    "}"
   ]
  },
  {
   "cell_type": "code",
   "execution_count": 5,
   "id": "aeedfce7-231f-4aec-b7fe-4c15ab476b70",
   "metadata": {},
   "outputs": [],
   "source": [
    "agent = Agent(prompt)"
   ]
  },
  {
   "cell_type": "code",
   "execution_count": 6,
   "id": "86a1cdaa-6a77-4d01-8991-4c7c54f9f126",
   "metadata": {},
   "outputs": [
    {
     "name": "stdout",
     "output_type": "stream",
     "text": [
      "Thought: I need to get the cost of apples in Berlin.\n",
      "Action: get_apple_cost: Berlin\n",
      "PAUSE\n"
     ]
    }
   ],
   "source": [
    "answer = agent(\"How much do apples cost in Berlin?\")\n",
    "print(answer)"
   ]
  },
  {
   "cell_type": "code",
   "execution_count": 7,
   "id": "579b22a7-61c8-4d15-a52e-8020ee429a74",
   "metadata": {},
   "outputs": [
    {
     "data": {
      "text/plain": [
       "'Apples cost 3.2 €/kg in Berlin'"
      ]
     },
     "execution_count": 7,
     "metadata": {},
     "output_type": "execute_result"
    }
   ],
   "source": [
    "result = get_apple_cost(\"Berlin\")\n",
    "result"
   ]
  },
  {
   "cell_type": "code",
   "execution_count": 8,
   "id": "a1350f43-fb72-40cd-b51a-405bb2d7a74c",
   "metadata": {},
   "outputs": [
    {
     "data": {
      "text/plain": [
       "'Observation: Apples cost 3.2 €/kg in Berlin'"
      ]
     },
     "execution_count": 8,
     "metadata": {},
     "output_type": "execute_result"
    }
   ],
   "source": [
    "next_prompt = \"Observation: {}\".format(result)\n",
    "next_prompt"
   ]
  },
  {
   "cell_type": "code",
   "execution_count": 9,
   "id": "534b0fbb-4e49-46a6-baf5-b9f2e1594ea3",
   "metadata": {},
   "outputs": [
    {
     "data": {
      "text/plain": [
       "'Answer: Apples cost 3.2 €/kg in Berlin.'"
      ]
     },
     "execution_count": 9,
     "metadata": {},
     "output_type": "execute_result"
    }
   ],
   "source": [
    "agent(next_prompt)"
   ]
  },
  {
   "cell_type": "code",
   "execution_count": 10,
   "id": "9c42d07a-0914-4710-a7f0-dae55600683c",
   "metadata": {},
   "outputs": [
    {
     "data": {
      "text/plain": [
       "[SystemMessage(content='You run in a loop of Thought, Action, PAUSE, Observation.\\n    At the end of the loop you output an Answer.\\n\\n    Use Thought to describe your thoughts about the question you have been asked.\\n    Use Action to run one of the actions available to you - then return PAUSE.\\n    Observation will be the result of running those actions.\\n\\n    Your available actions are:\\n    get_apple_cost: <city>\\n        Returns the cost of apples per kg in the given city.\\n\\n    calculate: <expression>\\n        Runs a Python calculation and returns the result. Use floating point syntax if necessary.\\n\\n    Example session:\\n    Question: What is the average cost of apples in Berlin, Paris, and Rome?\\n    Thought: I need to get the cost of apples in each city first.\\n    Action: get_apple_cost: Berlin\\n    PAUSE\\n\\n    You will be called again with:\\n    Observation: Apples cost 3.2 €/kg in Berlin\\n    Thought: Now I will get the price in Paris\\n    Action: get_apple_cost: Paris\\n    PAUSE\\n\\n    Observation: Apples cost 2.8 €/kg in Paris\\n    Thought: Now I will get the price in Rome\\n    Action: get_apple_cost: Rome\\n    PAUSE\\n\\n    Observation: Apples cost 3.0 €/kg in Rome\\n    Thought: I will now calculate the average of the three prices: (3.2 + 2.8 + 3.0) / 3\\n    Action: calculate: (3.2 + 2.8 + 3.0) / 3\\n    PAUSE\\n\\n    Observation: 3.0\\n    Answer: The average cost of apples in Berlin, Paris, and Rome is 3.0 €/kg', additional_kwargs={}, response_metadata={}),\n",
       " HumanMessage(content='How much do apples cost in Berlin?', additional_kwargs={}, response_metadata={}),\n",
       " AIMessage(content='Thought: I need to get the cost of apples in Berlin.\\nAction: get_apple_cost: Berlin\\nPAUSE', additional_kwargs={}, response_metadata={}),\n",
       " HumanMessage(content='Observation: Apples cost 3.2 €/kg in Berlin', additional_kwargs={}, response_metadata={}),\n",
       " AIMessage(content='Answer: Apples cost 3.2 €/kg in Berlin.', additional_kwargs={}, response_metadata={})]"
      ]
     },
     "execution_count": 10,
     "metadata": {},
     "output_type": "execute_result"
    }
   ],
   "source": [
    "agent.messages"
   ]
  },
  {
   "cell_type": "code",
   "execution_count": 11,
   "id": "36f3dabf-a663-4af7-93dd-9d6272f7d6a5",
   "metadata": {},
   "outputs": [],
   "source": [
    "agent = Agent(prompt)"
   ]
  },
  {
   "cell_type": "code",
   "execution_count": 12,
   "id": "db8a1cd1-8b44-4984-bc11-f90ea7acfcec",
   "metadata": {},
   "outputs": [
    {
     "name": "stdout",
     "output_type": "stream",
     "text": [
      "Thought: I need to get the price of apples in each city.\n",
      "Action: get_apple_cost: Berlin\n",
      "PAUSE\n"
     ]
    }
   ],
   "source": [
    "question = \"What’s the average price of apples in Berlin, Paris, and Rome?\"\n",
    "print(agent(question))"
   ]
  },
  {
   "cell_type": "code",
   "execution_count": 13,
   "id": "77a81251-bac3-4c9c-b1cb-18baa3b68ee4",
   "metadata": {},
   "outputs": [
    {
     "data": {
      "text/plain": [
       "'Apples cost 3.2 €/kg in Berlin'"
      ]
     },
     "execution_count": 13,
     "metadata": {},
     "output_type": "execute_result"
    }
   ],
   "source": [
    "result = get_apple_cost(\"Berlin\")\n",
    "result"
   ]
  },
  {
   "cell_type": "code",
   "execution_count": 14,
   "id": "fb9ab2cc-9a88-4589-801c-2e40c1133fce",
   "metadata": {},
   "outputs": [
    {
     "data": {
      "text/plain": [
       "'Observation: Apples cost 3.2 €/kg in Berlin'"
      ]
     },
     "execution_count": 14,
     "metadata": {},
     "output_type": "execute_result"
    }
   ],
   "source": [
    "next_prompt = \"Observation: {}\".format(result)\n",
    "next_prompt"
   ]
  },
  {
   "cell_type": "code",
   "execution_count": 15,
   "id": "cb8c824e-30d7-40d2-968c-1b183c710165",
   "metadata": {},
   "outputs": [
    {
     "name": "stdout",
     "output_type": "stream",
     "text": [
      "Thought: Now I need the price of apples in Paris.\n",
      "Action: get_apple_cost: Paris\n",
      "PAUSE\n"
     ]
    }
   ],
   "source": [
    "print(agent(next_prompt))"
   ]
  },
  {
   "cell_type": "code",
   "execution_count": 16,
   "id": "a4ffbb36-9791-4179-98cc-6b82e7737450",
   "metadata": {},
   "outputs": [
    {
     "data": {
      "text/plain": [
       "'Apples cost 2.8 €/kg in Paris'"
      ]
     },
     "execution_count": 16,
     "metadata": {},
     "output_type": "execute_result"
    }
   ],
   "source": [
    "result = get_apple_cost(\"Paris\")\n",
    "result"
   ]
  },
  {
   "cell_type": "code",
   "execution_count": 17,
   "id": "1038a413-ca6e-4c02-b0cd-b8db9567ab5a",
   "metadata": {},
   "outputs": [
    {
     "data": {
      "text/plain": [
       "'Observation: Apples cost 2.8 €/kg in Paris'"
      ]
     },
     "execution_count": 17,
     "metadata": {},
     "output_type": "execute_result"
    }
   ],
   "source": [
    "next_prompt = \"Observation: {}\".format(result)\n",
    "next_prompt"
   ]
  },
  {
   "cell_type": "code",
   "execution_count": 18,
   "id": "3119baa6-f2a2-41ba-9feb-ab2cc54ed78d",
   "metadata": {},
   "outputs": [
    {
     "name": "stdout",
     "output_type": "stream",
     "text": [
      "Thought: Now I need the price of apples in Rome.\n",
      "Action: get_apple_cost: Rome\n",
      "PAUSE\n"
     ]
    }
   ],
   "source": [
    "print(agent(next_prompt))"
   ]
  },
  {
   "cell_type": "code",
   "execution_count": 19,
   "id": "84323885-4dc3-4efe-aa0c-54d09c2d34be",
   "metadata": {},
   "outputs": [
    {
     "data": {
      "text/plain": [
       "'Apples cost 3.0 €/kg in Rome'"
      ]
     },
     "execution_count": 19,
     "metadata": {},
     "output_type": "execute_result"
    }
   ],
   "source": [
    "result = get_apple_cost(\"Rome\")\n",
    "result"
   ]
  },
  {
   "cell_type": "code",
   "execution_count": 20,
   "id": "ff7d0d7f-72ba-44c8-99ad-7de5a2ed92f2",
   "metadata": {},
   "outputs": [
    {
     "data": {
      "text/plain": [
       "'Observation: Apples cost 3.0 €/kg in Rome'"
      ]
     },
     "execution_count": 20,
     "metadata": {},
     "output_type": "execute_result"
    }
   ],
   "source": [
    "next_prompt = \"Observation: {}\".format(result)\n",
    "next_prompt"
   ]
  },
  {
   "cell_type": "code",
   "execution_count": 21,
   "id": "4a215822-c65d-4b02-ab1d-62c2823ac414",
   "metadata": {},
   "outputs": [
    {
     "name": "stdout",
     "output_type": "stream",
     "text": [
      "Thought: I will now calculate the average price.\n",
      "Action: calculate: (3.2 + 2.8 + 3.0) / 3\n",
      "PAUSE\n"
     ]
    }
   ],
   "source": [
    "print(agent(next_prompt))"
   ]
  },
  {
   "cell_type": "code",
   "execution_count": 22,
   "id": "68ec00e2-5190-42e2-99bc-9cf72aaae860",
   "metadata": {},
   "outputs": [
    {
     "name": "stdout",
     "output_type": "stream",
     "text": [
      "Observation: 3.0\n"
     ]
    }
   ],
   "source": [
    "next_prompt = \"Observation: {}\".format(eval(\"(3.2 + 2.8 + 3.0) / 3\"))\n",
    "print(next_prompt)"
   ]
  },
  {
   "cell_type": "code",
   "execution_count": 23,
   "id": "6c40a8e9-7c25-4f50-af0b-5d1f66d7a78e",
   "metadata": {},
   "outputs": [
    {
     "name": "stdout",
     "output_type": "stream",
     "text": [
      "Answer: The average price of apples in Berlin, Paris, and Rome is 3.0 €/kg.\n"
     ]
    }
   ],
   "source": [
    "print(agent(next_prompt))"
   ]
  },
  {
   "cell_type": "code",
   "execution_count": 24,
   "id": "55410e1d-a721-4720-9b71-02355b8dc05c",
   "metadata": {},
   "outputs": [
    {
     "data": {
      "text/plain": [
       "[SystemMessage(content='You run in a loop of Thought, Action, PAUSE, Observation.\\n    At the end of the loop you output an Answer.\\n\\n    Use Thought to describe your thoughts about the question you have been asked.\\n    Use Action to run one of the actions available to you - then return PAUSE.\\n    Observation will be the result of running those actions.\\n\\n    Your available actions are:\\n    get_apple_cost: <city>\\n        Returns the cost of apples per kg in the given city.\\n\\n    calculate: <expression>\\n        Runs a Python calculation and returns the result. Use floating point syntax if necessary.\\n\\n    Example session:\\n    Question: What is the average cost of apples in Berlin, Paris, and Rome?\\n    Thought: I need to get the cost of apples in each city first.\\n    Action: get_apple_cost: Berlin\\n    PAUSE\\n\\n    You will be called again with:\\n    Observation: Apples cost 3.2 €/kg in Berlin\\n    Thought: Now I will get the price in Paris\\n    Action: get_apple_cost: Paris\\n    PAUSE\\n\\n    Observation: Apples cost 2.8 €/kg in Paris\\n    Thought: Now I will get the price in Rome\\n    Action: get_apple_cost: Rome\\n    PAUSE\\n\\n    Observation: Apples cost 3.0 €/kg in Rome\\n    Thought: I will now calculate the average of the three prices: (3.2 + 2.8 + 3.0) / 3\\n    Action: calculate: (3.2 + 2.8 + 3.0) / 3\\n    PAUSE\\n\\n    Observation: 3.0\\n    Answer: The average cost of apples in Berlin, Paris, and Rome is 3.0 €/kg', additional_kwargs={}, response_metadata={}),\n",
       " HumanMessage(content='What’s the average price of apples in Berlin, Paris, and Rome?', additional_kwargs={}, response_metadata={}),\n",
       " AIMessage(content='Thought: I need to get the price of apples in each city.\\nAction: get_apple_cost: Berlin\\nPAUSE', additional_kwargs={}, response_metadata={}),\n",
       " HumanMessage(content='Observation: Apples cost 3.2 €/kg in Berlin', additional_kwargs={}, response_metadata={}),\n",
       " AIMessage(content='Thought: Now I need the price of apples in Paris.\\nAction: get_apple_cost: Paris\\nPAUSE', additional_kwargs={}, response_metadata={}),\n",
       " HumanMessage(content='Observation: Apples cost 2.8 €/kg in Paris', additional_kwargs={}, response_metadata={}),\n",
       " AIMessage(content='Thought: Now I need the price of apples in Rome.\\nAction: get_apple_cost: Rome\\nPAUSE', additional_kwargs={}, response_metadata={}),\n",
       " HumanMessage(content='Observation: Apples cost 3.0 €/kg in Rome', additional_kwargs={}, response_metadata={}),\n",
       " AIMessage(content='Thought: I will now calculate the average price.\\nAction: calculate: (3.2 + 2.8 + 3.0) / 3\\nPAUSE', additional_kwargs={}, response_metadata={}),\n",
       " HumanMessage(content='Observation: 3.0', additional_kwargs={}, response_metadata={}),\n",
       " AIMessage(content='Answer: The average price of apples in Berlin, Paris, and Rome is 3.0 €/kg.', additional_kwargs={}, response_metadata={})]"
      ]
     },
     "execution_count": 24,
     "metadata": {},
     "output_type": "execute_result"
    }
   ],
   "source": [
    "agent.messages"
   ]
  },
  {
   "cell_type": "code",
   "execution_count": null,
   "id": "bf42b43b-75f7-49e5-883e-d1cb996bc58a",
   "metadata": {},
   "outputs": [],
   "source": []
  }
 ],
 "metadata": {
  "kernelspec": {
   "display_name": "Python 3 (ipykernel)",
   "language": "python",
   "name": "python3"
  },
  "language_info": {
   "codemirror_mode": {
    "name": "ipython",
    "version": 3
   },
   "file_extension": ".py",
   "mimetype": "text/x-python",
   "name": "python",
   "nbconvert_exporter": "python",
   "pygments_lexer": "ipython3",
   "version": "3.11.12"
  }
 },
 "nbformat": 4,
 "nbformat_minor": 5
}
